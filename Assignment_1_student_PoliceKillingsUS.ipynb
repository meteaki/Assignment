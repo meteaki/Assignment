{
<<<<<<< HEAD
 "cells": [
  {
   "cell_type": "markdown",
   "metadata": {
    "colab_type": "text",
    "id": "view-in-github"
   },
   "source": [
    "<a href=\"https://colab.research.google.com/github/meteaki/Assignment/blob/master/Assignment_1_student_PoliceKillingsUS.ipynb\" target=\"_parent\"><img src=\"https://colab.research.google.com/assets/colab-badge.svg\" alt=\"Open In Colab\"/></a>"
   ]
  },
  {
   "cell_type": "markdown",
   "metadata": {
    "id": "xSwVOspA2Zin"
   },
   "source": [
    "# WITH PANDAS AND MATPLOTLIB"
   ]
  },
  {
   "cell_type": "code",
   "execution_count": 1,
   "metadata": {
    "_cell_guid": "5fdcd462-5466-40f5-9992-dc31a9a174f2",
    "_uuid": "dab5021d92c7210270cec270470e4ae179a1de01",
    "id": "22qiZVq32Zir"
   },
   "outputs": [],
   "source": [
    "import numpy as np \n",
    "import pandas as pd\n",
    "import seaborn as sns\n",
    "import matplotlib.pyplot as plt\n",
    "from collections import Counter\n",
    "import warnings\n",
    "warnings.filterwarnings('ignore') "
   ]
  },
  {
   "cell_type": "markdown",
   "metadata": {
    "id": "Rsu0y4Ha2Zit"
   },
   "source": [
    "INSTRUCTIONS\n",
    "\n",
    "1. Number of people by gender\n",
    "1. Kill weapon\n",
    "1. Age of killed people\n",
    "1. Race of killed people\n",
    "1. Killed People According to Races (Pie Chart)\n",
    "1. Most common 15 Name or Surname of killed people\n",
    "\n",
    "<br>"
   ]
  },
  {
   "cell_type": "markdown",
   "metadata": {
    "id": "OTDjgwf53tr5"
   },
   "source": [
    "read data\n",
    "\n",
    "if didn't work you can use this parameters: encoding=\"windows-1252\""
   ]
  },
  {
   "cell_type": "code",
   "execution_count": 2,
   "metadata": {
    "_cell_guid": "abb0685f-f844-43f8-84c0-4cd54361c7bf",
    "_uuid": "9c06ed7c41db79ae9d940f2d52aeff23621b3037",
    "colab": {
     "base_uri": "https://localhost:8080/",
     "height": 336
    },
    "id": "NYz5lAPp2Ziu",
    "outputId": "f173fc01-2eda-4097-bc4d-b7a0e0559b7e"
   },
   "outputs": [],
   "source": [
    "kill = pd.read_csv('PoliceKillingsUS.csv', encoding=\"windows-1252\")"
   ]
  },
  {
   "cell_type": "code",
   "execution_count": 3,
   "metadata": {
    "id": "o8xfqvwILImG"
   },
   "outputs": [
    {
     "ename": "ModuleNotFoundError",
     "evalue": "No module named 'google'",
     "output_type": "error",
     "traceback": [
      "\u001b[1;31m---------------------------------------------------------------------------\u001b[0m",
      "\u001b[1;31mModuleNotFoundError\u001b[0m                       Traceback (most recent call last)",
      "\u001b[1;32m<ipython-input-3-d5df0069828e>\u001b[0m in \u001b[0;36m<module>\u001b[1;34m\u001b[0m\n\u001b[1;32m----> 1\u001b[1;33m \u001b[1;32mfrom\u001b[0m \u001b[0mgoogle\u001b[0m\u001b[1;33m.\u001b[0m\u001b[0mcolab\u001b[0m \u001b[1;32mimport\u001b[0m \u001b[0mdrive\u001b[0m\u001b[1;33m\u001b[0m\u001b[1;33m\u001b[0m\u001b[0m\n\u001b[0m\u001b[0;32m      2\u001b[0m \u001b[0mdrive\u001b[0m\u001b[1;33m.\u001b[0m\u001b[0mmount\u001b[0m\u001b[1;33m(\u001b[0m\u001b[1;34m'/content/drive'\u001b[0m\u001b[1;33m)\u001b[0m\u001b[1;33m\u001b[0m\u001b[1;33m\u001b[0m\u001b[0m\n",
      "\u001b[1;31mModuleNotFoundError\u001b[0m: No module named 'google'"
     ]
    }
   ],
   "source": [
    "from google.colab import drive\n",
    "drive.mount('/content/drive')"
   ]
  },
  {
   "cell_type": "markdown",
   "metadata": {
    "id": "wMFloMjW2Zi8"
   },
   "source": [
    "## 1: Plot number of people by gender"
   ]
  },
  {
   "cell_type": "code",
   "execution_count": 4,
   "metadata": {},
   "outputs": [
    {
     "data": {
      "text/html": [
       "<div>\n",
       "<style scoped>\n",
       "    .dataframe tbody tr th:only-of-type {\n",
       "        vertical-align: middle;\n",
       "    }\n",
       "\n",
       "    .dataframe tbody tr th {\n",
       "        vertical-align: top;\n",
       "    }\n",
       "\n",
       "    .dataframe thead th {\n",
       "        text-align: right;\n",
       "    }\n",
       "</style>\n",
       "<table border=\"1\" class=\"dataframe\">\n",
       "  <thead>\n",
       "    <tr style=\"text-align: right;\">\n",
       "      <th></th>\n",
       "      <th>id</th>\n",
       "      <th>name</th>\n",
       "      <th>date</th>\n",
       "      <th>manner_of_death</th>\n",
       "      <th>armed</th>\n",
       "      <th>age</th>\n",
       "      <th>gender</th>\n",
       "      <th>race</th>\n",
       "      <th>city</th>\n",
       "      <th>state</th>\n",
       "      <th>signs_of_mental_illness</th>\n",
       "      <th>threat_level</th>\n",
       "      <th>flee</th>\n",
       "      <th>body_camera</th>\n",
       "    </tr>\n",
       "  </thead>\n",
       "  <tbody>\n",
       "    <tr>\n",
       "      <th>0</th>\n",
       "      <td>3</td>\n",
       "      <td>Tim Elliot</td>\n",
       "      <td>02/01/15</td>\n",
       "      <td>shot</td>\n",
       "      <td>gun</td>\n",
       "      <td>53.0</td>\n",
       "      <td>M</td>\n",
       "      <td>A</td>\n",
       "      <td>Shelton</td>\n",
       "      <td>WA</td>\n",
       "      <td>True</td>\n",
       "      <td>attack</td>\n",
       "      <td>Not fleeing</td>\n",
       "      <td>False</td>\n",
       "    </tr>\n",
       "    <tr>\n",
       "      <th>1</th>\n",
       "      <td>4</td>\n",
       "      <td>Lewis Lee Lembke</td>\n",
       "      <td>02/01/15</td>\n",
       "      <td>shot</td>\n",
       "      <td>gun</td>\n",
       "      <td>47.0</td>\n",
       "      <td>M</td>\n",
       "      <td>W</td>\n",
       "      <td>Aloha</td>\n",
       "      <td>OR</td>\n",
       "      <td>False</td>\n",
       "      <td>attack</td>\n",
       "      <td>Not fleeing</td>\n",
       "      <td>False</td>\n",
       "    </tr>\n",
       "    <tr>\n",
       "      <th>2</th>\n",
       "      <td>5</td>\n",
       "      <td>John Paul Quintero</td>\n",
       "      <td>03/01/15</td>\n",
       "      <td>shot and Tasered</td>\n",
       "      <td>unarmed</td>\n",
       "      <td>23.0</td>\n",
       "      <td>M</td>\n",
       "      <td>H</td>\n",
       "      <td>Wichita</td>\n",
       "      <td>KS</td>\n",
       "      <td>False</td>\n",
       "      <td>other</td>\n",
       "      <td>Not fleeing</td>\n",
       "      <td>False</td>\n",
       "    </tr>\n",
       "    <tr>\n",
       "      <th>3</th>\n",
       "      <td>8</td>\n",
       "      <td>Matthew Hoffman</td>\n",
       "      <td>04/01/15</td>\n",
       "      <td>shot</td>\n",
       "      <td>toy weapon</td>\n",
       "      <td>32.0</td>\n",
       "      <td>M</td>\n",
       "      <td>W</td>\n",
       "      <td>San Francisco</td>\n",
       "      <td>CA</td>\n",
       "      <td>True</td>\n",
       "      <td>attack</td>\n",
       "      <td>Not fleeing</td>\n",
       "      <td>False</td>\n",
       "    </tr>\n",
       "    <tr>\n",
       "      <th>4</th>\n",
       "      <td>9</td>\n",
       "      <td>Michael Rodriguez</td>\n",
       "      <td>04/01/15</td>\n",
       "      <td>shot</td>\n",
       "      <td>nail gun</td>\n",
       "      <td>39.0</td>\n",
       "      <td>M</td>\n",
       "      <td>H</td>\n",
       "      <td>Evans</td>\n",
       "      <td>CO</td>\n",
       "      <td>False</td>\n",
       "      <td>attack</td>\n",
       "      <td>Not fleeing</td>\n",
       "      <td>False</td>\n",
       "    </tr>\n",
       "  </tbody>\n",
       "</table>\n",
       "</div>"
      ],
      "text/plain": [
       "   id                name      date   manner_of_death       armed   age  \\\n",
       "0   3          Tim Elliot  02/01/15              shot         gun  53.0   \n",
       "1   4    Lewis Lee Lembke  02/01/15              shot         gun  47.0   \n",
       "2   5  John Paul Quintero  03/01/15  shot and Tasered     unarmed  23.0   \n",
       "3   8     Matthew Hoffman  04/01/15              shot  toy weapon  32.0   \n",
       "4   9   Michael Rodriguez  04/01/15              shot    nail gun  39.0   \n",
       "\n",
       "  gender race           city state  signs_of_mental_illness threat_level  \\\n",
       "0      M    A        Shelton    WA                     True       attack   \n",
       "1      M    W          Aloha    OR                    False       attack   \n",
       "2      M    H        Wichita    KS                    False        other   \n",
       "3      M    W  San Francisco    CA                     True       attack   \n",
       "4      M    H          Evans    CO                    False       attack   \n",
       "\n",
       "          flee  body_camera  \n",
       "0  Not fleeing        False  \n",
       "1  Not fleeing        False  \n",
       "2  Not fleeing        False  \n",
       "3  Not fleeing        False  \n",
       "4  Not fleeing        False  "
      ]
     },
     "execution_count": 4,
     "metadata": {},
     "output_type": "execute_result"
    }
   ],
   "source": [
    "kill.head()"
   ]
  },
  {
   "cell_type": "code",
   "execution_count": null,
   "metadata": {
    "colab": {
     "base_uri": "https://localhost:8080/",
     "height": 307
    },
    "id": "g73Ix7402Zi9",
    "outputId": "3cc46e86-dfdd-46ef-b738-e1f0f1dd6d82"
   },
   "outputs": [],
   "source": []
  },
  {
   "cell_type": "code",
   "execution_count": 5,
   "metadata": {},
   "outputs": [
    {
     "data": {
      "text/plain": [
       "Index(['F', 'M'], dtype='object', name='gender')"
      ]
     },
     "execution_count": 5,
     "metadata": {},
     "output_type": "execute_result"
    }
   ],
   "source": [
    "gender_s = kill.groupby(kill['gender']).sum().index\n",
    "gender_s"
   ]
  },
  {
   "cell_type": "code",
   "execution_count": 6,
   "metadata": {},
   "outputs": [
    {
     "data": {
      "text/plain": [
       "gender\n",
       "F     107\n",
       "M    2428\n",
       "Name: id, dtype: int64"
      ]
     },
     "execution_count": 6,
     "metadata": {},
     "output_type": "execute_result"
    }
   ],
   "source": [
    "gender_count = kill.groupby('gender')['id'].count()\n",
    "gender_count"
   ]
  },
  {
   "cell_type": "code",
   "execution_count": 7,
   "metadata": {},
   "outputs": [
    {
     "data": {
      "image/png": "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\n",
      "text/plain": [
       "<Figure size 576x432 with 1 Axes>"
      ]
     },
     "metadata": {
      "needs_background": "light"
     },
     "output_type": "display_data"
    }
   ],
   "source": [
    "fig, ax = plt.subplots(figsize=(8,6))\n",
    "ax.bar(gender_s, gender_count);"
   ]
  },
  {
   "cell_type": "code",
   "execution_count": 8,
   "metadata": {
    "colab": {
     "base_uri": "https://localhost:8080/",
     "height": 283
    },
    "id": "KtJXC38R2Zi9",
    "outputId": "99c4a881-e389-4469-984c-31d6b2bf67a2"
   },
   "outputs": [],
   "source": [
    "# with matplotlib\n"
   ]
  },
  {
   "cell_type": "markdown",
   "metadata": {
    "id": "3CDiN8a22Zi9"
   },
   "source": [
    "## 2: Plot 7 most common kill weapons"
   ]
  },
  {
   "cell_type": "code",
   "execution_count": 9,
   "metadata": {},
   "outputs": [
    {
     "data": {
      "text/plain": [
       "armed         \n",
       "gun               1398\n",
       "knife              373\n",
       "vehicle            177\n",
       "unarmed            171\n",
       "undetermined       117\n",
       "toy weapon         104\n",
       "unknown weapon      18\n",
       "dtype: int64"
      ]
     },
     "execution_count": 9,
     "metadata": {},
     "output_type": "execute_result"
    }
   ],
   "source": [
    "kill[['armed']].value_counts().head(7)"
   ]
  },
  {
   "cell_type": "code",
   "execution_count": null,
   "metadata": {
    "colab": {
     "base_uri": "https://localhost:8080/"
    },
    "id": "BAU2H77b2Zi9",
    "outputId": "a893d160-7464-448d-de16-6e4399c36a75"
   },
   "outputs": [],
   "source": []
  },
  {
   "cell_type": "code",
   "execution_count": 10,
   "metadata": {},
   "outputs": [
    {
     "data": {
      "text/plain": [
       "Index(['gun', 'knife', 'vehicle', 'unarmed', 'undetermined', 'toy weapon',\n",
       "       'machete'],\n",
       "      dtype='object')"
      ]
     },
     "execution_count": 10,
     "metadata": {},
     "output_type": "execute_result"
    }
   ],
   "source": [
    "weapon = kill['armed'].value_counts().head(7).index\n",
    "weapon"
   ]
  },
  {
   "cell_type": "code",
   "execution_count": 11,
   "metadata": {},
   "outputs": [
    {
     "data": {
      "text/plain": [
       "array([1398,  373,  177,  171,  117,  104,   18], dtype=int64)"
      ]
     },
     "execution_count": 11,
     "metadata": {},
     "output_type": "execute_result"
    }
   ],
   "source": [
    "w_numbers = kill[['armed']].value_counts().head(7).unique()\n",
    "w_numbers"
   ]
  },
  {
   "cell_type": "code",
   "execution_count": 12,
   "metadata": {},
   "outputs": [
    {
     "data": {
      "image/png": "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\n",
      "text/plain": [
       "<Figure size 576x432 with 1 Axes>"
      ]
     },
     "metadata": {
      "needs_background": "light"
     },
     "output_type": "display_data"
    }
   ],
   "source": [
    "fig, ax = plt.subplots(figsize = (8,6))\n",
    "\n",
    "ax.bar(weapon, w_numbers);"
   ]
  },
  {
   "cell_type": "code",
   "execution_count": 13,
   "metadata": {
    "colab": {
     "base_uri": "https://localhost:8080/",
     "height": 379
    },
    "id": "v6AvLOw82Zi-",
    "outputId": "b0539d81-1511-4ec4-b5dd-4160319f2096"
   },
   "outputs": [],
   "source": [
    "# with matplotlib\n"
   ]
  },
  {
   "cell_type": "markdown",
   "metadata": {
    "id": "GqXH5Xag2Zi-"
   },
   "source": [
    "## 3: Plot number of age of killed people under two groups : Under 25 and Above 25"
   ]
  },
  {
   "cell_type": "code",
   "execution_count": 14,
   "metadata": {},
   "outputs": [
    {
     "data": {
      "text/plain": [
       "2535"
      ]
     },
     "execution_count": 14,
     "metadata": {},
     "output_type": "execute_result"
    }
   ],
   "source": [
    "len(kill)"
   ]
  },
  {
   "cell_type": "code",
   "execution_count": 15,
   "metadata": {},
   "outputs": [
    {
     "data": {
      "text/plain": [
       "array([53., 47., 23., 32., 39., 18., 22., 35., 34., 25., 31., 41., 30.,\n",
       "       37., 28., 42., 36., 49., 71., 33., 29., 43., 24., 75., 68., 27.,\n",
       "       48., 21., 67., 19., 54., 17., 61., 56., 40., 45., 26., 59., 38.,\n",
       "       51., 74., 57., 46., 16., 50., 20., nan, 77., 58., 64., 52., 63.,\n",
       "       44., 60., 66., 83., 72., 76., 62., 55., 69., 86., 15., 65.,  6.,\n",
       "       12., 70., 80., 14., 82., 13., 73., 91., 79.])"
      ]
     },
     "execution_count": 15,
     "metadata": {},
     "output_type": "execute_result"
    }
   ],
   "source": [
    "kill['age'].unique()"
   ]
  },
  {
   "cell_type": "code",
   "execution_count": 16,
   "metadata": {},
   "outputs": [
    {
     "data": {
      "text/plain": [
       "77"
      ]
     },
     "execution_count": 16,
     "metadata": {},
     "output_type": "execute_result"
    }
   ],
   "source": [
    "kill['age'].isna().sum()"
   ]
  },
  {
   "cell_type": "code",
   "execution_count": 17,
   "metadata": {},
   "outputs": [
    {
     "data": {
      "text/html": [
       "<div>\n",
       "<style scoped>\n",
       "    .dataframe tbody tr th:only-of-type {\n",
       "        vertical-align: middle;\n",
       "    }\n",
       "\n",
       "    .dataframe tbody tr th {\n",
       "        vertical-align: top;\n",
       "    }\n",
       "\n",
       "    .dataframe thead th {\n",
       "        text-align: right;\n",
       "    }\n",
       "</style>\n",
       "<table border=\"1\" class=\"dataframe\">\n",
       "  <thead>\n",
       "    <tr style=\"text-align: right;\">\n",
       "      <th></th>\n",
       "      <th>id</th>\n",
       "      <th>name</th>\n",
       "      <th>date</th>\n",
       "      <th>manner_of_death</th>\n",
       "      <th>armed</th>\n",
       "      <th>age</th>\n",
       "      <th>gender</th>\n",
       "      <th>race</th>\n",
       "      <th>city</th>\n",
       "      <th>state</th>\n",
       "      <th>signs_of_mental_illness</th>\n",
       "      <th>threat_level</th>\n",
       "      <th>flee</th>\n",
       "      <th>body_camera</th>\n",
       "    </tr>\n",
       "  </thead>\n",
       "  <tbody>\n",
       "    <tr>\n",
       "      <th>2</th>\n",
       "      <td>5</td>\n",
       "      <td>John Paul Quintero</td>\n",
       "      <td>03/01/15</td>\n",
       "      <td>shot and Tasered</td>\n",
       "      <td>unarmed</td>\n",
       "      <td>23.0</td>\n",
       "      <td>M</td>\n",
       "      <td>H</td>\n",
       "      <td>Wichita</td>\n",
       "      <td>KS</td>\n",
       "      <td>False</td>\n",
       "      <td>other</td>\n",
       "      <td>Not fleeing</td>\n",
       "      <td>False</td>\n",
       "    </tr>\n",
       "    <tr>\n",
       "      <th>5</th>\n",
       "      <td>11</td>\n",
       "      <td>Kenneth Joe Brown</td>\n",
       "      <td>04/01/15</td>\n",
       "      <td>shot</td>\n",
       "      <td>gun</td>\n",
       "      <td>18.0</td>\n",
       "      <td>M</td>\n",
       "      <td>W</td>\n",
       "      <td>Guthrie</td>\n",
       "      <td>OK</td>\n",
       "      <td>False</td>\n",
       "      <td>attack</td>\n",
       "      <td>Not fleeing</td>\n",
       "      <td>False</td>\n",
       "    </tr>\n",
       "    <tr>\n",
       "      <th>6</th>\n",
       "      <td>13</td>\n",
       "      <td>Kenneth Arnold Buck</td>\n",
       "      <td>05/01/15</td>\n",
       "      <td>shot</td>\n",
       "      <td>gun</td>\n",
       "      <td>22.0</td>\n",
       "      <td>M</td>\n",
       "      <td>H</td>\n",
       "      <td>Chandler</td>\n",
       "      <td>AZ</td>\n",
       "      <td>False</td>\n",
       "      <td>attack</td>\n",
       "      <td>Car</td>\n",
       "      <td>False</td>\n",
       "    </tr>\n",
       "    <tr>\n",
       "      <th>22</th>\n",
       "      <td>43</td>\n",
       "      <td>Brian  Barbosa</td>\n",
       "      <td>11/01/15</td>\n",
       "      <td>shot</td>\n",
       "      <td>gun</td>\n",
       "      <td>23.0</td>\n",
       "      <td>M</td>\n",
       "      <td>H</td>\n",
       "      <td>South Gate</td>\n",
       "      <td>CA</td>\n",
       "      <td>False</td>\n",
       "      <td>attack</td>\n",
       "      <td>Not fleeing</td>\n",
       "      <td>False</td>\n",
       "    </tr>\n",
       "    <tr>\n",
       "      <th>26</th>\n",
       "      <td>49</td>\n",
       "      <td>Marcus Golden</td>\n",
       "      <td>14/01/15</td>\n",
       "      <td>shot</td>\n",
       "      <td>vehicle</td>\n",
       "      <td>24.0</td>\n",
       "      <td>M</td>\n",
       "      <td>B</td>\n",
       "      <td>St. Paul</td>\n",
       "      <td>MN</td>\n",
       "      <td>False</td>\n",
       "      <td>attack</td>\n",
       "      <td>Not fleeing</td>\n",
       "      <td>False</td>\n",
       "    </tr>\n",
       "    <tr>\n",
       "      <th>...</th>\n",
       "      <td>...</td>\n",
       "      <td>...</td>\n",
       "      <td>...</td>\n",
       "      <td>...</td>\n",
       "      <td>...</td>\n",
       "      <td>...</td>\n",
       "      <td>...</td>\n",
       "      <td>...</td>\n",
       "      <td>...</td>\n",
       "      <td>...</td>\n",
       "      <td>...</td>\n",
       "      <td>...</td>\n",
       "      <td>...</td>\n",
       "      <td>...</td>\n",
       "    </tr>\n",
       "    <tr>\n",
       "      <th>2504</th>\n",
       "      <td>2789</td>\n",
       "      <td>TK TK</td>\n",
       "      <td>19/07/17</td>\n",
       "      <td>shot</td>\n",
       "      <td>gun</td>\n",
       "      <td>24.0</td>\n",
       "      <td>M</td>\n",
       "      <td>NaN</td>\n",
       "      <td>Fair Oaks</td>\n",
       "      <td>CA</td>\n",
       "      <td>False</td>\n",
       "      <td>attack</td>\n",
       "      <td>Not fleeing</td>\n",
       "      <td>False</td>\n",
       "    </tr>\n",
       "    <tr>\n",
       "      <th>2505</th>\n",
       "      <td>2790</td>\n",
       "      <td>Anthony Benavidez</td>\n",
       "      <td>19/07/17</td>\n",
       "      <td>shot</td>\n",
       "      <td>knife</td>\n",
       "      <td>24.0</td>\n",
       "      <td>M</td>\n",
       "      <td>NaN</td>\n",
       "      <td>Santa Fe</td>\n",
       "      <td>NM</td>\n",
       "      <td>False</td>\n",
       "      <td>other</td>\n",
       "      <td>Not fleeing</td>\n",
       "      <td>False</td>\n",
       "    </tr>\n",
       "    <tr>\n",
       "      <th>2509</th>\n",
       "      <td>2794</td>\n",
       "      <td>Yahir Breito</td>\n",
       "      <td>21/07/17</td>\n",
       "      <td>shot</td>\n",
       "      <td>knife</td>\n",
       "      <td>22.0</td>\n",
       "      <td>M</td>\n",
       "      <td>NaN</td>\n",
       "      <td>Santa Ana</td>\n",
       "      <td>CA</td>\n",
       "      <td>False</td>\n",
       "      <td>other</td>\n",
       "      <td>Not fleeing</td>\n",
       "      <td>False</td>\n",
       "    </tr>\n",
       "    <tr>\n",
       "      <th>2516</th>\n",
       "      <td>2801</td>\n",
       "      <td>Alexander J. Schoessel</td>\n",
       "      <td>25/07/17</td>\n",
       "      <td>shot</td>\n",
       "      <td>ax</td>\n",
       "      <td>23.0</td>\n",
       "      <td>M</td>\n",
       "      <td>W</td>\n",
       "      <td>Richmond</td>\n",
       "      <td>VA</td>\n",
       "      <td>True</td>\n",
       "      <td>other</td>\n",
       "      <td>Foot</td>\n",
       "      <td>False</td>\n",
       "    </tr>\n",
       "    <tr>\n",
       "      <th>2519</th>\n",
       "      <td>2805</td>\n",
       "      <td>Aries Clark</td>\n",
       "      <td>25/07/17</td>\n",
       "      <td>shot</td>\n",
       "      <td>undetermined</td>\n",
       "      <td>16.0</td>\n",
       "      <td>M</td>\n",
       "      <td>B</td>\n",
       "      <td>Marion</td>\n",
       "      <td>AR</td>\n",
       "      <td>False</td>\n",
       "      <td>undetermined</td>\n",
       "      <td>Not fleeing</td>\n",
       "      <td>False</td>\n",
       "    </tr>\n",
       "  </tbody>\n",
       "</table>\n",
       "<p>450 rows × 14 columns</p>\n",
       "</div>"
      ],
      "text/plain": [
       "        id                    name      date   manner_of_death         armed  \\\n",
       "2        5      John Paul Quintero  03/01/15  shot and Tasered       unarmed   \n",
       "5       11       Kenneth Joe Brown  04/01/15              shot           gun   \n",
       "6       13     Kenneth Arnold Buck  05/01/15              shot           gun   \n",
       "22      43          Brian  Barbosa  11/01/15              shot           gun   \n",
       "26      49           Marcus Golden  14/01/15              shot       vehicle   \n",
       "...    ...                     ...       ...               ...           ...   \n",
       "2504  2789                   TK TK  19/07/17              shot           gun   \n",
       "2505  2790       Anthony Benavidez  19/07/17              shot         knife   \n",
       "2509  2794            Yahir Breito  21/07/17              shot         knife   \n",
       "2516  2801  Alexander J. Schoessel  25/07/17              shot            ax   \n",
       "2519  2805             Aries Clark  25/07/17              shot  undetermined   \n",
       "\n",
       "       age gender race        city state  signs_of_mental_illness  \\\n",
       "2     23.0      M    H     Wichita    KS                    False   \n",
       "5     18.0      M    W     Guthrie    OK                    False   \n",
       "6     22.0      M    H    Chandler    AZ                    False   \n",
       "22    23.0      M    H  South Gate    CA                    False   \n",
       "26    24.0      M    B    St. Paul    MN                    False   \n",
       "...    ...    ...  ...         ...   ...                      ...   \n",
       "2504  24.0      M  NaN   Fair Oaks    CA                    False   \n",
       "2505  24.0      M  NaN    Santa Fe    NM                    False   \n",
       "2509  22.0      M  NaN   Santa Ana    CA                    False   \n",
       "2516  23.0      M    W    Richmond    VA                     True   \n",
       "2519  16.0      M    B      Marion    AR                    False   \n",
       "\n",
       "      threat_level         flee  body_camera  \n",
       "2            other  Not fleeing        False  \n",
       "5           attack  Not fleeing        False  \n",
       "6           attack          Car        False  \n",
       "22          attack  Not fleeing        False  \n",
       "26          attack  Not fleeing        False  \n",
       "...            ...          ...          ...  \n",
       "2504        attack  Not fleeing        False  \n",
       "2505         other  Not fleeing        False  \n",
       "2509         other  Not fleeing        False  \n",
       "2516         other         Foot        False  \n",
       "2519  undetermined  Not fleeing        False  \n",
       "\n",
       "[450 rows x 14 columns]"
      ]
     },
     "execution_count": 17,
     "metadata": {},
     "output_type": "execute_result"
    }
   ],
   "source": [
    "kill[(kill['age'] < 25)]"
   ]
  },
  {
   "cell_type": "code",
   "execution_count": 18,
   "metadata": {},
   "outputs": [
    {
     "data": {
      "text/plain": [
       "553"
      ]
     },
     "execution_count": 18,
     "metadata": {},
     "output_type": "execute_result"
    }
   ],
   "source": [
    "below25 = (kill['age'] <= 25).sum()\n",
    "below25"
   ]
  },
  {
   "cell_type": "code",
   "execution_count": 19,
   "metadata": {},
   "outputs": [
    {
     "data": {
      "text/html": [
       "<div>\n",
       "<style scoped>\n",
       "    .dataframe tbody tr th:only-of-type {\n",
       "        vertical-align: middle;\n",
       "    }\n",
       "\n",
       "    .dataframe tbody tr th {\n",
       "        vertical-align: top;\n",
       "    }\n",
       "\n",
       "    .dataframe thead th {\n",
       "        text-align: right;\n",
       "    }\n",
       "</style>\n",
       "<table border=\"1\" class=\"dataframe\">\n",
       "  <thead>\n",
       "    <tr style=\"text-align: right;\">\n",
       "      <th></th>\n",
       "      <th>id</th>\n",
       "      <th>name</th>\n",
       "      <th>date</th>\n",
       "      <th>manner_of_death</th>\n",
       "      <th>armed</th>\n",
       "      <th>age</th>\n",
       "      <th>gender</th>\n",
       "      <th>race</th>\n",
       "      <th>city</th>\n",
       "      <th>state</th>\n",
       "      <th>signs_of_mental_illness</th>\n",
       "      <th>threat_level</th>\n",
       "      <th>flee</th>\n",
       "      <th>body_camera</th>\n",
       "    </tr>\n",
       "  </thead>\n",
       "  <tbody>\n",
       "    <tr>\n",
       "      <th>0</th>\n",
       "      <td>3</td>\n",
       "      <td>Tim Elliot</td>\n",
       "      <td>02/01/15</td>\n",
       "      <td>shot</td>\n",
       "      <td>gun</td>\n",
       "      <td>53.0</td>\n",
       "      <td>M</td>\n",
       "      <td>A</td>\n",
       "      <td>Shelton</td>\n",
       "      <td>WA</td>\n",
       "      <td>True</td>\n",
       "      <td>attack</td>\n",
       "      <td>Not fleeing</td>\n",
       "      <td>False</td>\n",
       "    </tr>\n",
       "    <tr>\n",
       "      <th>1</th>\n",
       "      <td>4</td>\n",
       "      <td>Lewis Lee Lembke</td>\n",
       "      <td>02/01/15</td>\n",
       "      <td>shot</td>\n",
       "      <td>gun</td>\n",
       "      <td>47.0</td>\n",
       "      <td>M</td>\n",
       "      <td>W</td>\n",
       "      <td>Aloha</td>\n",
       "      <td>OR</td>\n",
       "      <td>False</td>\n",
       "      <td>attack</td>\n",
       "      <td>Not fleeing</td>\n",
       "      <td>False</td>\n",
       "    </tr>\n",
       "    <tr>\n",
       "      <th>3</th>\n",
       "      <td>8</td>\n",
       "      <td>Matthew Hoffman</td>\n",
       "      <td>04/01/15</td>\n",
       "      <td>shot</td>\n",
       "      <td>toy weapon</td>\n",
       "      <td>32.0</td>\n",
       "      <td>M</td>\n",
       "      <td>W</td>\n",
       "      <td>San Francisco</td>\n",
       "      <td>CA</td>\n",
       "      <td>True</td>\n",
       "      <td>attack</td>\n",
       "      <td>Not fleeing</td>\n",
       "      <td>False</td>\n",
       "    </tr>\n",
       "    <tr>\n",
       "      <th>4</th>\n",
       "      <td>9</td>\n",
       "      <td>Michael Rodriguez</td>\n",
       "      <td>04/01/15</td>\n",
       "      <td>shot</td>\n",
       "      <td>nail gun</td>\n",
       "      <td>39.0</td>\n",
       "      <td>M</td>\n",
       "      <td>H</td>\n",
       "      <td>Evans</td>\n",
       "      <td>CO</td>\n",
       "      <td>False</td>\n",
       "      <td>attack</td>\n",
       "      <td>Not fleeing</td>\n",
       "      <td>False</td>\n",
       "    </tr>\n",
       "    <tr>\n",
       "      <th>7</th>\n",
       "      <td>15</td>\n",
       "      <td>Brock Nichols</td>\n",
       "      <td>06/01/15</td>\n",
       "      <td>shot</td>\n",
       "      <td>gun</td>\n",
       "      <td>35.0</td>\n",
       "      <td>M</td>\n",
       "      <td>W</td>\n",
       "      <td>Assaria</td>\n",
       "      <td>KS</td>\n",
       "      <td>False</td>\n",
       "      <td>attack</td>\n",
       "      <td>Not fleeing</td>\n",
       "      <td>False</td>\n",
       "    </tr>\n",
       "    <tr>\n",
       "      <th>...</th>\n",
       "      <td>...</td>\n",
       "      <td>...</td>\n",
       "      <td>...</td>\n",
       "      <td>...</td>\n",
       "      <td>...</td>\n",
       "      <td>...</td>\n",
       "      <td>...</td>\n",
       "      <td>...</td>\n",
       "      <td>...</td>\n",
       "      <td>...</td>\n",
       "      <td>...</td>\n",
       "      <td>...</td>\n",
       "      <td>...</td>\n",
       "      <td>...</td>\n",
       "    </tr>\n",
       "    <tr>\n",
       "      <th>2529</th>\n",
       "      <td>2819</td>\n",
       "      <td>Brian J. Skinner</td>\n",
       "      <td>28/07/17</td>\n",
       "      <td>shot</td>\n",
       "      <td>knife</td>\n",
       "      <td>32.0</td>\n",
       "      <td>M</td>\n",
       "      <td>NaN</td>\n",
       "      <td>Glenville</td>\n",
       "      <td>NY</td>\n",
       "      <td>True</td>\n",
       "      <td>other</td>\n",
       "      <td>Not fleeing</td>\n",
       "      <td>False</td>\n",
       "    </tr>\n",
       "    <tr>\n",
       "      <th>2530</th>\n",
       "      <td>2822</td>\n",
       "      <td>Rodney E. Jacobs</td>\n",
       "      <td>28/07/17</td>\n",
       "      <td>shot</td>\n",
       "      <td>gun</td>\n",
       "      <td>31.0</td>\n",
       "      <td>M</td>\n",
       "      <td>NaN</td>\n",
       "      <td>Kansas City</td>\n",
       "      <td>MO</td>\n",
       "      <td>False</td>\n",
       "      <td>attack</td>\n",
       "      <td>Not fleeing</td>\n",
       "      <td>False</td>\n",
       "    </tr>\n",
       "    <tr>\n",
       "      <th>2532</th>\n",
       "      <td>2818</td>\n",
       "      <td>Dennis W. Robinson</td>\n",
       "      <td>29/07/17</td>\n",
       "      <td>shot</td>\n",
       "      <td>gun</td>\n",
       "      <td>48.0</td>\n",
       "      <td>M</td>\n",
       "      <td>NaN</td>\n",
       "      <td>Melba</td>\n",
       "      <td>ID</td>\n",
       "      <td>False</td>\n",
       "      <td>attack</td>\n",
       "      <td>Car</td>\n",
       "      <td>False</td>\n",
       "    </tr>\n",
       "    <tr>\n",
       "      <th>2533</th>\n",
       "      <td>2817</td>\n",
       "      <td>Isaiah Tucker</td>\n",
       "      <td>31/07/17</td>\n",
       "      <td>shot</td>\n",
       "      <td>vehicle</td>\n",
       "      <td>28.0</td>\n",
       "      <td>M</td>\n",
       "      <td>B</td>\n",
       "      <td>Oshkosh</td>\n",
       "      <td>WI</td>\n",
       "      <td>False</td>\n",
       "      <td>attack</td>\n",
       "      <td>Car</td>\n",
       "      <td>True</td>\n",
       "    </tr>\n",
       "    <tr>\n",
       "      <th>2534</th>\n",
       "      <td>2815</td>\n",
       "      <td>Dwayne Jeune</td>\n",
       "      <td>31/07/17</td>\n",
       "      <td>shot</td>\n",
       "      <td>knife</td>\n",
       "      <td>32.0</td>\n",
       "      <td>M</td>\n",
       "      <td>B</td>\n",
       "      <td>Brooklyn</td>\n",
       "      <td>NY</td>\n",
       "      <td>True</td>\n",
       "      <td>attack</td>\n",
       "      <td>Not fleeing</td>\n",
       "      <td>False</td>\n",
       "    </tr>\n",
       "  </tbody>\n",
       "</table>\n",
       "<p>1905 rows × 14 columns</p>\n",
       "</div>"
      ],
      "text/plain": [
       "        id                name      date manner_of_death       armed   age  \\\n",
       "0        3          Tim Elliot  02/01/15            shot         gun  53.0   \n",
       "1        4    Lewis Lee Lembke  02/01/15            shot         gun  47.0   \n",
       "3        8     Matthew Hoffman  04/01/15            shot  toy weapon  32.0   \n",
       "4        9   Michael Rodriguez  04/01/15            shot    nail gun  39.0   \n",
       "7       15       Brock Nichols  06/01/15            shot         gun  35.0   \n",
       "...    ...                 ...       ...             ...         ...   ...   \n",
       "2529  2819    Brian J. Skinner  28/07/17            shot       knife  32.0   \n",
       "2530  2822    Rodney E. Jacobs  28/07/17            shot         gun  31.0   \n",
       "2532  2818  Dennis W. Robinson  29/07/17            shot         gun  48.0   \n",
       "2533  2817       Isaiah Tucker  31/07/17            shot     vehicle  28.0   \n",
       "2534  2815        Dwayne Jeune  31/07/17            shot       knife  32.0   \n",
       "\n",
       "     gender race           city state  signs_of_mental_illness threat_level  \\\n",
       "0         M    A        Shelton    WA                     True       attack   \n",
       "1         M    W          Aloha    OR                    False       attack   \n",
       "3         M    W  San Francisco    CA                     True       attack   \n",
       "4         M    H          Evans    CO                    False       attack   \n",
       "7         M    W        Assaria    KS                    False       attack   \n",
       "...     ...  ...            ...   ...                      ...          ...   \n",
       "2529      M  NaN      Glenville    NY                     True        other   \n",
       "2530      M  NaN    Kansas City    MO                    False       attack   \n",
       "2532      M  NaN          Melba    ID                    False       attack   \n",
       "2533      M    B        Oshkosh    WI                    False       attack   \n",
       "2534      M    B       Brooklyn    NY                     True       attack   \n",
       "\n",
       "             flee  body_camera  \n",
       "0     Not fleeing        False  \n",
       "1     Not fleeing        False  \n",
       "3     Not fleeing        False  \n",
       "4     Not fleeing        False  \n",
       "7     Not fleeing        False  \n",
       "...           ...          ...  \n",
       "2529  Not fleeing        False  \n",
       "2530  Not fleeing        False  \n",
       "2532          Car        False  \n",
       "2533          Car         True  \n",
       "2534  Not fleeing        False  \n",
       "\n",
       "[1905 rows x 14 columns]"
      ]
     },
     "execution_count": 19,
     "metadata": {},
     "output_type": "execute_result"
    }
   ],
   "source": [
    "kill[(kill['age'] > 25)]"
   ]
  },
  {
   "cell_type": "code",
   "execution_count": 20,
   "metadata": {},
   "outputs": [
    {
     "data": {
      "text/plain": [
       "1905"
      ]
     },
     "execution_count": 20,
     "metadata": {},
     "output_type": "execute_result"
    }
   ],
   "source": [
    "above25 = (kill['age'] > 25).sum()\n",
    "above25"
   ]
  },
  {
   "cell_type": "code",
   "execution_count": null,
   "metadata": {
    "colab": {
     "base_uri": "https://localhost:8080/",
     "height": 307
    },
    "id": "V4mng-vC2Zi-",
    "outputId": "01c48c2d-3344-4b26-ff0b-632378fb59f2"
   },
   "outputs": [],
   "source": []
  },
  {
   "cell_type": "code",
   "execution_count": null,
   "metadata": {
    "id": "1zfmB3FS2Zi-"
   },
   "outputs": [],
   "source": []
  },
  {
   "cell_type": "code",
   "execution_count": null,
   "metadata": {
    "colab": {
     "base_uri": "https://localhost:8080/",
     "height": 307
    },
    "id": "DJzAOutV2Zi-",
    "outputId": "f1188a5c-2a2a-4cbd-b01e-751d47905f8f"
   },
   "outputs": [],
   "source": []
  },
  {
   "cell_type": "code",
   "execution_count": 21,
   "metadata": {},
   "outputs": [],
   "source": [
    "cond_num = [above25, below25]"
   ]
  },
  {
   "cell_type": "code",
   "execution_count": null,
   "metadata": {
    "colab": {
     "base_uri": "https://localhost:8080/"
    },
    "id": "fSQ8BTUD2Zi_",
    "outputId": "89645134-4eb3-4034-bb3d-e446399aaad0"
   },
   "outputs": [],
   "source": []
  },
  {
   "cell_type": "code",
   "execution_count": 22,
   "metadata": {},
   "outputs": [
    {
     "data": {
      "image/png": "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\n",
      "text/plain": [
       "<Figure size 576x432 with 1 Axes>"
      ]
     },
     "metadata": {
      "needs_background": "light"
     },
     "output_type": "display_data"
    }
   ],
   "source": [
    "fig, ax = plt.subplots(figsize=(8,6))\n",
    "\n",
    "ax.bar(['above25', 'below25'], cond_num);"
   ]
  },
  {
   "cell_type": "code",
   "execution_count": 23,
   "metadata": {
    "colab": {
     "base_uri": "https://localhost:8080/",
     "height": 269
    },
    "id": "gpOukiYx2Zi_",
    "outputId": "84b257d1-14e1-4bef-d6a4-08cf0a236acb"
   },
   "outputs": [],
   "source": [
    "# with matplotlib\n"
   ]
  },
  {
   "cell_type": "markdown",
   "metadata": {
    "id": "SZ-wps772Zi_"
   },
   "source": [
    "## 4: Plot number of killed poeple by race"
   ]
  },
  {
   "cell_type": "code",
   "execution_count": 24,
   "metadata": {},
   "outputs": [
    {
     "data": {
      "text/plain": [
       "race\n",
       "W    1201\n",
       "B     618\n",
       "H     423\n",
       "A      39\n",
       "N      31\n",
       "O      28\n",
       "dtype: int64"
      ]
     },
     "execution_count": 24,
     "metadata": {},
     "output_type": "execute_result"
    }
   ],
   "source": [
    "kill.value_counts('race')"
   ]
  },
  {
   "cell_type": "code",
   "execution_count": null,
   "metadata": {
    "colab": {
     "base_uri": "https://localhost:8080/"
    },
    "id": "Uqh-Od7X2Zi_",
    "outputId": "9d3da4ed-bc38-45c9-a66f-7d5ba5fb9f5c"
   },
   "outputs": [],
   "source": []
  },
  {
   "cell_type": "code",
   "execution_count": 25,
   "metadata": {},
   "outputs": [],
   "source": [
    "race_n = kill.value_counts('race').index"
   ]
  },
  {
   "cell_type": "code",
   "execution_count": 26,
   "metadata": {},
   "outputs": [],
   "source": [
    "race_t = kill.value_counts('race')"
   ]
  },
  {
   "cell_type": "code",
   "execution_count": 27,
   "metadata": {},
   "outputs": [
    {
     "data": {
      "text/plain": [
       "<BarContainer object of 6 artists>"
      ]
     },
     "execution_count": 27,
     "metadata": {},
     "output_type": "execute_result"
    },
    {
     "data": {
      "image/png": "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\n",
      "text/plain": [
       "<Figure size 576x432 with 1 Axes>"
      ]
     },
     "metadata": {
      "needs_background": "light"
     },
     "output_type": "display_data"
    }
   ],
   "source": [
    "fig, ax = plt.subplots(figsize = (8,6))\n",
    "\n",
    "ax.bar(race_n, race_t)"
   ]
  },
  {
   "cell_type": "code",
   "execution_count": 28,
   "metadata": {
    "colab": {
     "base_uri": "https://localhost:8080/",
     "height": 283
    },
    "id": "Bb16OmdB2ZjA",
    "outputId": "7e601245-42a2-4547-8d3f-8151bc5a1005"
   },
   "outputs": [],
   "source": [
    "# with matplotlib\n"
   ]
  },
  {
   "cell_type": "code",
   "execution_count": null,
   "metadata": {
    "id": "o7z6kXmQ-EPT"
   },
   "outputs": [],
   "source": []
  },
  {
   "cell_type": "markdown",
   "metadata": {
    "id": "9pGSRTxe-l5B"
   },
   "source": [
    "## 5: Killed People According to Races (Pie Chart)"
   ]
  },
  {
   "cell_type": "code",
   "execution_count": null,
   "metadata": {
    "colab": {
     "base_uri": "https://localhost:8080/",
     "height": 307
    },
    "id": "gq_OO4tB-l5E",
    "outputId": "0a45ca8f-7df9-4b85-d72f-8b0d4115561c"
   },
   "outputs": [],
   "source": []
  },
  {
   "cell_type": "code",
   "execution_count": null,
   "metadata": {
    "_uuid": "73ef9a67518196c14338e28236b5054186fabdc1",
    "colab": {
     "base_uri": "https://localhost:8080/"
    },
    "id": "_ZPh_aCz-l5F",
    "outputId": "8ee30bed-c707-4e5d-b0a0-ae4e896e35e8"
   },
   "outputs": [],
   "source": []
  },
  {
   "cell_type": "code",
   "execution_count": null,
   "metadata": {
    "colab": {
     "base_uri": "https://localhost:8080/"
    },
    "id": "4lJAFvsx-l5F",
    "outputId": "014ec220-87cf-4b96-da5c-b0f600130869"
   },
   "outputs": [],
   "source": []
  },
  {
   "cell_type": "markdown",
   "metadata": {
    "id": "VuWSIYCm-l5F"
   },
   "source": [
    "Problem: missing value on race column."
   ]
  },
  {
   "cell_type": "markdown",
   "metadata": {
    "id": "mmCQXFcg-l5G"
   },
   "source": [
    "**INSTRUCTION-1: Drop the all raws that contain missing value (dropna)**"
   ]
  },
  {
   "cell_type": "code",
   "execution_count": 29,
   "metadata": {
    "id": "CzwSuxgQ-l5G"
   },
   "outputs": [],
   "source": [
    "kill1 = kill.dropna(axis=0).copy()"
   ]
  },
  {
   "cell_type": "code",
   "execution_count": null,
   "metadata": {
    "colab": {
     "base_uri": "https://localhost:8080/"
    },
    "id": "3DzEkUNo-l5G",
    "outputId": "fe3f08e2-9ffa-40b2-edad-963b7ee8e29d"
   },
   "outputs": [],
   "source": []
  },
  {
   "cell_type": "markdown",
   "metadata": {
    "id": "DRb2AH84-l5G"
   },
   "source": [
    "**INSTRUCTION-2: Demonstrate Race Ratio of Killed People by a Pie Chart (You can use Matplotlib)**"
   ]
  },
  {
   "cell_type": "code",
   "execution_count": null,
   "metadata": {
    "colab": {
     "base_uri": "https://localhost:8080/"
    },
    "id": "Pq0aSdnz-l5G",
    "outputId": "313c6efc-d2cd-4030-8ee8-1cd496565d2c"
   },
   "outputs": [],
   "source": []
  },
  {
   "cell_type": "code",
   "execution_count": 30,
   "metadata": {
    "colab": {
     "base_uri": "https://localhost:8080/"
    },
    "id": "z3CnjKfh-l5H",
    "outputId": "f138b9ff-11c1-48e2-e616-6a8db21e7dbe"
   },
   "outputs": [],
   "source": [
    "race_name = kill1.value_counts('race').index"
   ]
  },
  {
   "cell_type": "code",
   "execution_count": 31,
   "metadata": {},
   "outputs": [
    {
     "data": {
      "text/plain": [
       "array([1168,  592,  401,   36,   29,   28], dtype=int64)"
      ]
     },
     "execution_count": 31,
     "metadata": {},
     "output_type": "execute_result"
    }
   ],
   "source": [
    "kill1.value_counts('race').values"
   ]
  },
  {
   "cell_type": "code",
   "execution_count": 32,
   "metadata": {},
   "outputs": [],
   "source": [
    "percent = kill1.value_counts('race').values/len(kill1)*100"
   ]
  },
  {
   "cell_type": "code",
   "execution_count": null,
   "metadata": {
    "colab": {
     "base_uri": "https://localhost:8080/"
    },
    "id": "dNnqgLCM-l5H",
    "outputId": "939f3639-058d-4bf3-abd0-19105f334802"
   },
   "outputs": [],
   "source": []
  },
  {
   "cell_type": "code",
   "execution_count": 33,
   "metadata": {},
   "outputs": [
    {
     "data": {
      "text/plain": [
       "race\n",
       "W    1168\n",
       "B     592\n",
       "H     401\n",
       "A      36\n",
       "N      29\n",
       "O      28\n",
       "dtype: int64"
      ]
     },
     "execution_count": 33,
     "metadata": {},
     "output_type": "execute_result"
    }
   ],
   "source": [
    "kill1.value_counts('race')"
   ]
  },
  {
   "cell_type": "code",
   "execution_count": 34,
   "metadata": {},
   "outputs": [
    {
     "data": {
      "image/png": "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\n",
      "text/plain": [
       "<Figure size 1296x576 with 1 Axes>"
      ]
     },
     "metadata": {},
     "output_type": "display_data"
    }
   ],
   "source": [
    "kill1.value_counts('race').plot.pie(subplots=True, figsize=(18,8), labeldistance=0.7);"
   ]
  },
  {
   "cell_type": "code",
   "execution_count": 35,
   "metadata": {
    "colab": {
     "base_uri": "https://localhost:8080/",
     "height": 575
    },
    "id": "F1CSkbxa-l5H",
    "outputId": "18bae490-b8d5-49b0-b124-f1c4f75a0129"
   },
   "outputs": [],
   "source": [
    "# matplotlib\n",
    "\n"
   ]
  },
  {
   "cell_type": "code",
   "execution_count": null,
   "metadata": {
    "id": "tRAjYkN_MqkZ"
   },
   "outputs": [],
   "source": []
  }
 ],
 "metadata": {
  "colab": {
   "collapsed_sections": [],
   "include_colab_link": true,
   "name": "Assignment-1 student_PoliceKillingsUS.ipynb",
   "provenance": [],
   "toc_visible": true
  },
  "kernelspec": {
   "display_name": "Python 3",
   "language": "python",
   "name": "python3"
  },
  "language_info": {
   "codemirror_mode": {
    "name": "ipython",
    "version": 3
   },
   "file_extension": ".py",
   "mimetype": "text/x-python",
   "name": "python",
   "nbconvert_exporter": "python",
   "pygments_lexer": "ipython3",
   "version": "3.8.8"
  }
 },
 "nbformat": 4,
 "nbformat_minor": 1
}
=======
  "nbformat": 4,
  "nbformat_minor": 0,
  "metadata": {
    "kernelspec": {
      "display_name": "Python 3",
      "language": "python",
      "name": "python3"
    },
    "language_info": {
      "codemirror_mode": {
        "name": "ipython",
        "version": 3
      },
      "file_extension": ".py",
      "mimetype": "text/x-python",
      "name": "python",
      "nbconvert_exporter": "python",
      "pygments_lexer": "ipython3",
      "version": "3.8.5"
    },
    "colab": {
      "name": "Assignment-1 student_PoliceKillingsUS.ipynb",
      "provenance": [],
      "collapsed_sections": [],
      "toc_visible": true,
      "include_colab_link": true
    }
  },
  "cells": [
    {
      "cell_type": "markdown",
      "metadata": {
        "id": "view-in-github",
        "colab_type": "text"
      },
      "source": [
        "<a href=\"https://colab.research.google.com/github/meteaki/Assignment/blob/master/Assignment_1_student_PoliceKillingsUS.ipynb\" target=\"_parent\"><img src=\"https://colab.research.google.com/assets/colab-badge.svg\" alt=\"Open In Colab\"/></a>"
      ]
    },
    {
      "cell_type": "markdown",
      "metadata": {
        "id": "xSwVOspA2Zin"
      },
      "source": [
        "# WITH PANDAS AND MATPLOTLIB"
      ]
    },
    {
      "cell_type": "code",
      "metadata": {
        "_cell_guid": "5fdcd462-5466-40f5-9992-dc31a9a174f2",
        "_uuid": "dab5021d92c7210270cec270470e4ae179a1de01",
        "id": "22qiZVq32Zir"
      },
      "source": [
        "import numpy as np \n",
        "import pandas as pd\n",
        "import seaborn as sns\n",
        "import matplotlib.pyplot as plt\n",
        "from collections import Counter\n",
        "import warnings\n",
        "warnings.filterwarnings('ignore') "
      ],
      "execution_count": 1,
      "outputs": []
    },
    {
      "cell_type": "markdown",
      "metadata": {
        "id": "Rsu0y4Ha2Zit"
      },
      "source": [
        "INSTRUCTIONS\n",
        "\n",
        "1. Number of people by gender\n",
        "1. Kill weapon\n",
        "1. Age of killed people\n",
        "1. Race of killed people\n",
        "1. Killed People According to Races (Pie Chart)\n",
        "1. Most common 15 Name or Surname of killed people\n",
        "\n",
        "<br>"
      ]
    },
    {
      "cell_type": "markdown",
      "metadata": {
        "id": "OTDjgwf53tr5"
      },
      "source": [
        "read data\n",
        "\n",
        "if didn't work you can use this parameters: encoding=\"windows-1252\""
      ]
    },
    {
      "cell_type": "code",
      "metadata": {
        "_cell_guid": "abb0685f-f844-43f8-84c0-4cd54361c7bf",
        "_uuid": "9c06ed7c41db79ae9d940f2d52aeff23621b3037",
        "id": "NYz5lAPp2Ziu",
        "colab": {
          "base_uri": "https://localhost:8080/",
          "height": 336
        },
        "outputId": "f173fc01-2eda-4097-bc4d-b7a0e0559b7e"
      },
      "source": [
        "kill = pd.read_csv('PoliceKillingsUS.csv', encoding=\"windows-1252\")"
      ],
      "execution_count": 2,
      "outputs": [
        {
          "output_type": "error",
          "ename": "FileNotFoundError",
          "evalue": "ignored",
          "traceback": [
            "\u001b[0;31m---------------------------------------------------------------------------\u001b[0m",
            "\u001b[0;31mFileNotFoundError\u001b[0m                         Traceback (most recent call last)",
            "\u001b[0;32m<ipython-input-2-bad62872aa1d>\u001b[0m in \u001b[0;36m<module>\u001b[0;34m()\u001b[0m\n\u001b[0;32m----> 1\u001b[0;31m \u001b[0mkill\u001b[0m \u001b[0;34m=\u001b[0m \u001b[0mpd\u001b[0m\u001b[0;34m.\u001b[0m\u001b[0mread_csv\u001b[0m\u001b[0;34m(\u001b[0m\u001b[0;34m'PoliceKillingsUS.csv'\u001b[0m\u001b[0;34m,\u001b[0m \u001b[0mencoding\u001b[0m\u001b[0;34m=\u001b[0m\u001b[0;34m\"windows-1252\"\u001b[0m\u001b[0;34m)\u001b[0m\u001b[0;34m\u001b[0m\u001b[0;34m\u001b[0m\u001b[0m\n\u001b[0m",
            "\u001b[0;32m/usr/local/lib/python3.7/dist-packages/pandas/io/parsers.py\u001b[0m in \u001b[0;36mread_csv\u001b[0;34m(filepath_or_buffer, sep, delimiter, header, names, index_col, usecols, squeeze, prefix, mangle_dupe_cols, dtype, engine, converters, true_values, false_values, skipinitialspace, skiprows, skipfooter, nrows, na_values, keep_default_na, na_filter, verbose, skip_blank_lines, parse_dates, infer_datetime_format, keep_date_col, date_parser, dayfirst, cache_dates, iterator, chunksize, compression, thousands, decimal, lineterminator, quotechar, quoting, doublequote, escapechar, comment, encoding, dialect, error_bad_lines, warn_bad_lines, delim_whitespace, low_memory, memory_map, float_precision)\u001b[0m\n\u001b[1;32m    686\u001b[0m     )\n\u001b[1;32m    687\u001b[0m \u001b[0;34m\u001b[0m\u001b[0m\n\u001b[0;32m--> 688\u001b[0;31m     \u001b[0;32mreturn\u001b[0m \u001b[0m_read\u001b[0m\u001b[0;34m(\u001b[0m\u001b[0mfilepath_or_buffer\u001b[0m\u001b[0;34m,\u001b[0m \u001b[0mkwds\u001b[0m\u001b[0;34m)\u001b[0m\u001b[0;34m\u001b[0m\u001b[0;34m\u001b[0m\u001b[0m\n\u001b[0m\u001b[1;32m    689\u001b[0m \u001b[0;34m\u001b[0m\u001b[0m\n\u001b[1;32m    690\u001b[0m \u001b[0;34m\u001b[0m\u001b[0m\n",
            "\u001b[0;32m/usr/local/lib/python3.7/dist-packages/pandas/io/parsers.py\u001b[0m in \u001b[0;36m_read\u001b[0;34m(filepath_or_buffer, kwds)\u001b[0m\n\u001b[1;32m    452\u001b[0m \u001b[0;34m\u001b[0m\u001b[0m\n\u001b[1;32m    453\u001b[0m     \u001b[0;31m# Create the parser.\u001b[0m\u001b[0;34m\u001b[0m\u001b[0;34m\u001b[0m\u001b[0;34m\u001b[0m\u001b[0m\n\u001b[0;32m--> 454\u001b[0;31m     \u001b[0mparser\u001b[0m \u001b[0;34m=\u001b[0m \u001b[0mTextFileReader\u001b[0m\u001b[0;34m(\u001b[0m\u001b[0mfp_or_buf\u001b[0m\u001b[0;34m,\u001b[0m \u001b[0;34m**\u001b[0m\u001b[0mkwds\u001b[0m\u001b[0;34m)\u001b[0m\u001b[0;34m\u001b[0m\u001b[0;34m\u001b[0m\u001b[0m\n\u001b[0m\u001b[1;32m    455\u001b[0m \u001b[0;34m\u001b[0m\u001b[0m\n\u001b[1;32m    456\u001b[0m     \u001b[0;32mif\u001b[0m \u001b[0mchunksize\u001b[0m \u001b[0;32mor\u001b[0m \u001b[0miterator\u001b[0m\u001b[0;34m:\u001b[0m\u001b[0;34m\u001b[0m\u001b[0;34m\u001b[0m\u001b[0m\n",
            "\u001b[0;32m/usr/local/lib/python3.7/dist-packages/pandas/io/parsers.py\u001b[0m in \u001b[0;36m__init__\u001b[0;34m(self, f, engine, **kwds)\u001b[0m\n\u001b[1;32m    946\u001b[0m             \u001b[0mself\u001b[0m\u001b[0;34m.\u001b[0m\u001b[0moptions\u001b[0m\u001b[0;34m[\u001b[0m\u001b[0;34m\"has_index_names\"\u001b[0m\u001b[0;34m]\u001b[0m \u001b[0;34m=\u001b[0m \u001b[0mkwds\u001b[0m\u001b[0;34m[\u001b[0m\u001b[0;34m\"has_index_names\"\u001b[0m\u001b[0;34m]\u001b[0m\u001b[0;34m\u001b[0m\u001b[0;34m\u001b[0m\u001b[0m\n\u001b[1;32m    947\u001b[0m \u001b[0;34m\u001b[0m\u001b[0m\n\u001b[0;32m--> 948\u001b[0;31m         \u001b[0mself\u001b[0m\u001b[0;34m.\u001b[0m\u001b[0m_make_engine\u001b[0m\u001b[0;34m(\u001b[0m\u001b[0mself\u001b[0m\u001b[0;34m.\u001b[0m\u001b[0mengine\u001b[0m\u001b[0;34m)\u001b[0m\u001b[0;34m\u001b[0m\u001b[0;34m\u001b[0m\u001b[0m\n\u001b[0m\u001b[1;32m    949\u001b[0m \u001b[0;34m\u001b[0m\u001b[0m\n\u001b[1;32m    950\u001b[0m     \u001b[0;32mdef\u001b[0m \u001b[0mclose\u001b[0m\u001b[0;34m(\u001b[0m\u001b[0mself\u001b[0m\u001b[0;34m)\u001b[0m\u001b[0;34m:\u001b[0m\u001b[0;34m\u001b[0m\u001b[0;34m\u001b[0m\u001b[0m\n",
            "\u001b[0;32m/usr/local/lib/python3.7/dist-packages/pandas/io/parsers.py\u001b[0m in \u001b[0;36m_make_engine\u001b[0;34m(self, engine)\u001b[0m\n\u001b[1;32m   1178\u001b[0m     \u001b[0;32mdef\u001b[0m \u001b[0m_make_engine\u001b[0m\u001b[0;34m(\u001b[0m\u001b[0mself\u001b[0m\u001b[0;34m,\u001b[0m \u001b[0mengine\u001b[0m\u001b[0;34m=\u001b[0m\u001b[0;34m\"c\"\u001b[0m\u001b[0;34m)\u001b[0m\u001b[0;34m:\u001b[0m\u001b[0;34m\u001b[0m\u001b[0;34m\u001b[0m\u001b[0m\n\u001b[1;32m   1179\u001b[0m         \u001b[0;32mif\u001b[0m \u001b[0mengine\u001b[0m \u001b[0;34m==\u001b[0m \u001b[0;34m\"c\"\u001b[0m\u001b[0;34m:\u001b[0m\u001b[0;34m\u001b[0m\u001b[0;34m\u001b[0m\u001b[0m\n\u001b[0;32m-> 1180\u001b[0;31m             \u001b[0mself\u001b[0m\u001b[0;34m.\u001b[0m\u001b[0m_engine\u001b[0m \u001b[0;34m=\u001b[0m \u001b[0mCParserWrapper\u001b[0m\u001b[0;34m(\u001b[0m\u001b[0mself\u001b[0m\u001b[0;34m.\u001b[0m\u001b[0mf\u001b[0m\u001b[0;34m,\u001b[0m \u001b[0;34m**\u001b[0m\u001b[0mself\u001b[0m\u001b[0;34m.\u001b[0m\u001b[0moptions\u001b[0m\u001b[0;34m)\u001b[0m\u001b[0;34m\u001b[0m\u001b[0;34m\u001b[0m\u001b[0m\n\u001b[0m\u001b[1;32m   1181\u001b[0m         \u001b[0;32melse\u001b[0m\u001b[0;34m:\u001b[0m\u001b[0;34m\u001b[0m\u001b[0;34m\u001b[0m\u001b[0m\n\u001b[1;32m   1182\u001b[0m             \u001b[0;32mif\u001b[0m \u001b[0mengine\u001b[0m \u001b[0;34m==\u001b[0m \u001b[0;34m\"python\"\u001b[0m\u001b[0;34m:\u001b[0m\u001b[0;34m\u001b[0m\u001b[0;34m\u001b[0m\u001b[0m\n",
            "\u001b[0;32m/usr/local/lib/python3.7/dist-packages/pandas/io/parsers.py\u001b[0m in \u001b[0;36m__init__\u001b[0;34m(self, src, **kwds)\u001b[0m\n\u001b[1;32m   1991\u001b[0m         \u001b[0;32mif\u001b[0m \u001b[0mkwds\u001b[0m\u001b[0;34m.\u001b[0m\u001b[0mget\u001b[0m\u001b[0;34m(\u001b[0m\u001b[0;34m\"compression\"\u001b[0m\u001b[0;34m)\u001b[0m \u001b[0;32mis\u001b[0m \u001b[0;32mNone\u001b[0m \u001b[0;32mand\u001b[0m \u001b[0mencoding\u001b[0m\u001b[0;34m:\u001b[0m\u001b[0;34m\u001b[0m\u001b[0;34m\u001b[0m\u001b[0m\n\u001b[1;32m   1992\u001b[0m             \u001b[0;32mif\u001b[0m \u001b[0misinstance\u001b[0m\u001b[0;34m(\u001b[0m\u001b[0msrc\u001b[0m\u001b[0;34m,\u001b[0m \u001b[0mstr\u001b[0m\u001b[0;34m)\u001b[0m\u001b[0;34m:\u001b[0m\u001b[0;34m\u001b[0m\u001b[0;34m\u001b[0m\u001b[0m\n\u001b[0;32m-> 1993\u001b[0;31m                 \u001b[0msrc\u001b[0m \u001b[0;34m=\u001b[0m \u001b[0mopen\u001b[0m\u001b[0;34m(\u001b[0m\u001b[0msrc\u001b[0m\u001b[0;34m,\u001b[0m \u001b[0;34m\"rb\"\u001b[0m\u001b[0;34m)\u001b[0m\u001b[0;34m\u001b[0m\u001b[0;34m\u001b[0m\u001b[0m\n\u001b[0m\u001b[1;32m   1994\u001b[0m                 \u001b[0mself\u001b[0m\u001b[0;34m.\u001b[0m\u001b[0mhandles\u001b[0m\u001b[0;34m.\u001b[0m\u001b[0mappend\u001b[0m\u001b[0;34m(\u001b[0m\u001b[0msrc\u001b[0m\u001b[0;34m)\u001b[0m\u001b[0;34m\u001b[0m\u001b[0;34m\u001b[0m\u001b[0m\n\u001b[1;32m   1995\u001b[0m \u001b[0;34m\u001b[0m\u001b[0m\n",
            "\u001b[0;31mFileNotFoundError\u001b[0m: [Errno 2] No such file or directory: 'PoliceKillingsUS.csv'"
          ]
        }
      ]
    },
    {
      "cell_type": "code",
      "source": [
        "from google.colab import drive\n",
        "drive.mount('/content/drive')"
      ],
      "metadata": {
        "id": "o8xfqvwILImG"
      },
      "execution_count": null,
      "outputs": []
    },
    {
      "cell_type": "markdown",
      "metadata": {
        "id": "wMFloMjW2Zi8"
      },
      "source": [
        "## 1: Plot number of people by gender"
      ]
    },
    {
      "cell_type": "code",
      "metadata": {
        "id": "g73Ix7402Zi9",
        "colab": {
          "base_uri": "https://localhost:8080/",
          "height": 307
        },
        "outputId": "3cc46e86-dfdd-46ef-b738-e1f0f1dd6d82"
      },
      "source": [
        ""
      ],
      "execution_count": null,
      "outputs": [
        {
          "output_type": "execute_result",
          "data": {
            "text/html": [
              "<div>\n",
              "<style scoped>\n",
              "    .dataframe tbody tr th:only-of-type {\n",
              "        vertical-align: middle;\n",
              "    }\n",
              "\n",
              "    .dataframe tbody tr th {\n",
              "        vertical-align: top;\n",
              "    }\n",
              "\n",
              "    .dataframe thead th {\n",
              "        text-align: right;\n",
              "    }\n",
              "</style>\n",
              "<table border=\"1\" class=\"dataframe\">\n",
              "  <thead>\n",
              "    <tr style=\"text-align: right;\">\n",
              "      <th></th>\n",
              "      <th>id</th>\n",
              "      <th>name</th>\n",
              "      <th>date</th>\n",
              "      <th>manner_of_death</th>\n",
              "      <th>armed</th>\n",
              "      <th>age</th>\n",
              "      <th>gender</th>\n",
              "      <th>race</th>\n",
              "      <th>city</th>\n",
              "      <th>state</th>\n",
              "      <th>signs_of_mental_illness</th>\n",
              "      <th>threat_level</th>\n",
              "      <th>flee</th>\n",
              "      <th>body_camera</th>\n",
              "    </tr>\n",
              "  </thead>\n",
              "  <tbody>\n",
              "    <tr>\n",
              "      <th>0</th>\n",
              "      <td>3</td>\n",
              "      <td>Tim Elliot</td>\n",
              "      <td>02/01/15</td>\n",
              "      <td>shot</td>\n",
              "      <td>gun</td>\n",
              "      <td>53.0</td>\n",
              "      <td>M</td>\n",
              "      <td>A</td>\n",
              "      <td>Shelton</td>\n",
              "      <td>WA</td>\n",
              "      <td>True</td>\n",
              "      <td>attack</td>\n",
              "      <td>Not fleeing</td>\n",
              "      <td>False</td>\n",
              "    </tr>\n",
              "    <tr>\n",
              "      <th>1</th>\n",
              "      <td>4</td>\n",
              "      <td>Lewis Lee Lembke</td>\n",
              "      <td>02/01/15</td>\n",
              "      <td>shot</td>\n",
              "      <td>gun</td>\n",
              "      <td>47.0</td>\n",
              "      <td>M</td>\n",
              "      <td>W</td>\n",
              "      <td>Aloha</td>\n",
              "      <td>OR</td>\n",
              "      <td>False</td>\n",
              "      <td>attack</td>\n",
              "      <td>Not fleeing</td>\n",
              "      <td>False</td>\n",
              "    </tr>\n",
              "    <tr>\n",
              "      <th>2</th>\n",
              "      <td>5</td>\n",
              "      <td>John Paul Quintero</td>\n",
              "      <td>03/01/15</td>\n",
              "      <td>shot and Tasered</td>\n",
              "      <td>unarmed</td>\n",
              "      <td>23.0</td>\n",
              "      <td>M</td>\n",
              "      <td>H</td>\n",
              "      <td>Wichita</td>\n",
              "      <td>KS</td>\n",
              "      <td>False</td>\n",
              "      <td>other</td>\n",
              "      <td>Not fleeing</td>\n",
              "      <td>False</td>\n",
              "    </tr>\n",
              "    <tr>\n",
              "      <th>3</th>\n",
              "      <td>8</td>\n",
              "      <td>Matthew Hoffman</td>\n",
              "      <td>04/01/15</td>\n",
              "      <td>shot</td>\n",
              "      <td>toy weapon</td>\n",
              "      <td>32.0</td>\n",
              "      <td>M</td>\n",
              "      <td>W</td>\n",
              "      <td>San Francisco</td>\n",
              "      <td>CA</td>\n",
              "      <td>True</td>\n",
              "      <td>attack</td>\n",
              "      <td>Not fleeing</td>\n",
              "      <td>False</td>\n",
              "    </tr>\n",
              "    <tr>\n",
              "      <th>4</th>\n",
              "      <td>9</td>\n",
              "      <td>Michael Rodriguez</td>\n",
              "      <td>04/01/15</td>\n",
              "      <td>shot</td>\n",
              "      <td>nail gun</td>\n",
              "      <td>39.0</td>\n",
              "      <td>M</td>\n",
              "      <td>H</td>\n",
              "      <td>Evans</td>\n",
              "      <td>CO</td>\n",
              "      <td>False</td>\n",
              "      <td>attack</td>\n",
              "      <td>Not fleeing</td>\n",
              "      <td>False</td>\n",
              "    </tr>\n",
              "  </tbody>\n",
              "</table>\n",
              "</div>"
            ],
            "text/plain": [
              "   id                name      date  ... threat_level         flee  body_camera\n",
              "0   3          Tim Elliot  02/01/15  ...       attack  Not fleeing        False\n",
              "1   4    Lewis Lee Lembke  02/01/15  ...       attack  Not fleeing        False\n",
              "2   5  John Paul Quintero  03/01/15  ...        other  Not fleeing        False\n",
              "3   8     Matthew Hoffman  04/01/15  ...       attack  Not fleeing        False\n",
              "4   9   Michael Rodriguez  04/01/15  ...       attack  Not fleeing        False\n",
              "\n",
              "[5 rows x 14 columns]"
            ]
          },
          "metadata": {
            "tags": []
          },
          "execution_count": 3
        }
      ]
    },
    {
      "cell_type": "code",
      "metadata": {
        "id": "KtJXC38R2Zi9",
        "colab": {
          "base_uri": "https://localhost:8080/",
          "height": 283
        },
        "outputId": "99c4a881-e389-4469-984c-31d6b2bf67a2"
      },
      "source": [
        "# with matplotlib\n"
      ],
      "execution_count": null,
      "outputs": [
        {
          "output_type": "display_data",
          "data": {
            "image/png": "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\n",
            "text/plain": [
              "<Figure size 432x288 with 1 Axes>"
            ]
          },
          "metadata": {
            "tags": [],
            "needs_background": "light"
          }
        }
      ]
    },
    {
      "cell_type": "markdown",
      "metadata": {
        "id": "3CDiN8a22Zi9"
      },
      "source": [
        "## 2: Plot 7 most common kill weapons"
      ]
    },
    {
      "cell_type": "code",
      "metadata": {
        "id": "BAU2H77b2Zi9",
        "colab": {
          "base_uri": "https://localhost:8080/"
        },
        "outputId": "a893d160-7464-448d-de16-6e4399c36a75"
      },
      "source": [
        ""
      ],
      "execution_count": null,
      "outputs": [
        {
          "output_type": "execute_result",
          "data": {
            "text/plain": [
              "gun               1398\n",
              "knife              373\n",
              "vehicle            177\n",
              "unarmed            171\n",
              "undetermined       117\n",
              "toy weapon         104\n",
              "unknown weapon      18\n",
              "Name: armed, dtype: int64"
            ]
          },
          "metadata": {
            "tags": []
          },
          "execution_count": 6
        }
      ]
    },
    {
      "cell_type": "code",
      "metadata": {
        "id": "v6AvLOw82Zi-",
        "colab": {
          "base_uri": "https://localhost:8080/",
          "height": 379
        },
        "outputId": "b0539d81-1511-4ec4-b5dd-4160319f2096"
      },
      "source": [
        "# with matplotlib\n"
      ],
      "execution_count": null,
      "outputs": [
        {
          "output_type": "display_data",
          "data": {
            "image/png": "iVBORw0KGgoAAAANSUhEUgAAAe0AAAFqCAYAAAA3AQKbAAAABHNCSVQICAgIfAhkiAAAAAlwSFlzAAALEgAACxIB0t1+/AAAADh0RVh0U29mdHdhcmUAbWF0cGxvdGxpYiB2ZXJzaW9uMy4yLjIsIGh0dHA6Ly9tYXRwbG90bGliLm9yZy+WH4yJAAAgAElEQVR4nO3deZyVZf3/8dcbUFHJHdxAoaRQSUe/k1gZqSRqoLgrXzNUivylppkpZuaWSmlfS0vLcoFShFzAisw9LXMBI0LUJEUBkSVxCRe2z++P6xo6TMM2yzlzn3k/Hw8enHPf98y57jMz533f16qIwMzMzFq/dpUugJmZma0dh7aZmVlBOLTNzMwKwqFtZmZWEA5tMzOzgnBom5mZFUSHShdgdbbaaqvo3r17pYthZmZWNpMmTVoQEZ0b2teqQ7t79+5MnDix0sUwMzMrG0mvrGqfq8fNzMwKwqFd4uSTT6ZLly707t17xbYLLriA3XbbjZqaGvr3789rr70GwMKFCzn88MPZbbfd2GuvvZg6deqKr7n66qvZdddd6d27N4MHD+b9998v+7mYmVn1cWiXOPHEE7n33ntX2vbNb36TKVOmMHnyZAYOHMgll1wCwOWXX05NTQ1Tpkxh1KhRnHHGGQDMnj2ba665hokTJzJ16lSWLVvG7bffXvZzMTOz6uPQLtG3b1+22GKLlbZtsskmKx4vWrQISQBMmzaN/fffH4BevXoxY8YM5s6dC8DSpUt57733WLp0Ke+++y7bbbddmc7AzMyqmUN7LZx//vl069aNW2+9dcWd9u67785dd90FwFNPPcUrr7zCrFmz2H777Tn77LPZYYcd2Hbbbdl0003p379/JYtvZmZVwqG9Fi677DJmzpzJ8ccfz49//GMAhg8fzptvvklNTQ3XXnste+yxB+3bt2fhwoWMHz+el19+mddee41Fixbxq1/9qsJnYGZm1cChvQ6OP/547rzzTiBVm998881MnjyZUaNGMX/+fD784Q/zwAMP0KNHDzp37sx6663HEUccweOPP17hkpuZWTVYY2hLuknSPElTG9j3DUkhaav8XJKukTRd0hRJe5YcO0TSi/nfkOY9jZbz4osvrng8fvx4evXqBcCbb77J4sWLAfjFL35B37592WSTTdhhhx144oknePfdd4kIHnzwQXbeeeeKlN3MzKrL2kyucgvwY2BU6UZJ3YD+wKslmw8GeuZ/fYDrgT6StgAuBGqBACZJuiciFjb1BJrT4MGDeeSRR1iwYAFdu3bl4osvZsKECbzwwgu0a9eOHXfckZ/+9KcAPPfccwwZMgRJ7Lrrrtx4440A9OnTh6OOOoo999yTDh06sMceezBs2LBKnpaZmVUJRcSaD5K6A7+NiN4l2+4ALgXGA7URsUDSz4BHImJ0PuYFYN+6fxHxlbx9peNWpba2NjwjmpmZtSWSJkVEbUP7GtWmLWkQMDsi/lZv1/bAzJLns/K2VW03MzOztbTOc49L2gj4FqlqvNlJGgYMA9hhhx2a/ft3H/67Zv+e5TJjxIBKF8HMzCqoMXfaHwF6AH+TNAPoCjwjaRtgNtCt5Niueduqtv+XiLghImojorZz5wYXOTEzM2uT1jm0I+LvEdElIrpHRHdSVfeeEfE6cA/wxdyLfG/grYiYA/wB6C9pc0mbk+7S/9B8p2FmZlb91mbI12jgL8DHJM2SNHQ1h08AXgKmAz8HvgoQEW+QOq09nf9dkreZmZnZWlpjm3ZEDF7D/u4ljwM4dRXH3QTctI7lMzMzs8wzopmZmRWEQ9vMzKwgHNpmZmYF4dA2MzMrCIe2mZlZQTi0zczMCsKhbWZmVhAObTMzs4JwaJuZmRWEQ9vMzKwgHNpmZmYF4dA2MzMrCIe2mZlZQTi0zczMCsKhbWZmVhAObTMzs4JwaJuZmRWEQ9vMzKwgHNpmZmYF4dA2MzMrCIe2mZlZQTi0zczMCsKhbWZmVhAObTMzs4JwaJuZmRWEQ9vMzKwgHNpmZmYF4dA2MzMriDWGtqSbJM2TNLVk25WSnpc0RdLdkjYr2XeepOmSXpB0YMn2g/K26ZKGN/+pmJmZVbe1udO+BTio3rb7gd4RsRvwD+A8AEm7AMcBu+avuU5Se0ntgZ8ABwO7AIPzsWZmZraW1hjaEfEo8Ea9bfdFxNL89Amga348CLg9Ij6IiJeB6cBe+d/0iHgpIhYDt+djzczMbC01R5v2ycDv8+PtgZkl+2blbavabmZmZmupSaEt6XxgKXBr8xQHJA2TNFHSxPnz5zfXtzUzMyu8Roe2pBOBgcDxERF582ygW8lhXfO2VW3/LxFxQ0TURkRt586dG1s8MzOzqtOo0JZ0EHAOcGhEvFuy6x7gOEkbSOoB9ASeAp4GekrqIWl9Ume1e5pWdDMzs7alw5oOkDQa2BfYStIs4EJSb/ENgPslATwREadExLOSxgLTSNXmp0bEsvx9TgP+ALQHboqIZ1vgfMzMzKrWGkM7IgY3sPnG1Rx/GXBZA9snABPWqXRmZma2gmdEMzMzKwiHtpmZWUE4tM3MzArCoW1mZlYQDm0zM7OCcGibmZkVhEPbzMysIBzaZmZmBeHQNjMzKwiHtpmZWUE4tM3MzArCoW1mZlYQDm0zM7OCcGibmZkVhEPbzMysIBzaZmZmBeHQNjMzKwiHtpmZWUE4tM3MzArCoW1mZlYQDm0zM7OCcGibmZkVhEPbzMysIBzaZmZmBeHQNjMzKwiHtpmZWUE4tM3MzArCoW1mZlYQawxtSTdJmidpasm2LSTdL+nF/P/mebskXSNpuqQpkvYs+Zoh+fgXJQ1pmdMxMzOrXmtzp30LcFC9bcOBByOiJ/Bgfg5wMNAz/xsGXA8p5IELgT7AXsCFdUFvZmZma2eNoR0RjwJv1Ns8CBiZH48EDivZPiqSJ4DNJG0LHAjcHxFvRMRC4H7++0LAzMzMVqOxbdpbR8Sc/Ph1YOv8eHtgZslxs/K2VW03MzOztdTkjmgREUA0Q1kAkDRM0kRJE+fPn99c39bMzKzwGhvac3O1N/n/eXn7bKBbyXFd87ZVbf8vEXFDRNRGRG3nzp0bWTwzM7Pq09jQvgeo6wE+BBhfsv2LuRf53sBbuRr9D0B/SZvnDmj98zYzMzNbSx3WdICk0cC+wFaSZpF6gY8AxkoaCrwCHJMPnwB8HpgOvAucBBARb0i6FHg6H3dJRNTv3GZmZmarscbQjojBq9jVr4FjAzh1Fd/nJuCmdSqdmZmZreAZ0czMzArCoW1mZlYQDm0zM7OCcGibmZkVhEPbzMysIBzaZmZmBeHQNjMzKwiHtpmZWUE4tM3MzArCoW1mZlYQDm0zM7OCcGibmZkVhEPbzMysIBzaZmZmBeHQNjMzKwiHtpmZWUE4tM3MzArCoW1mZlYQDm0zM7OCcGibmZkVhEPbzMysIBzaZmZmBeHQNjMzKwiHtpmZWUE4tM3MzArCoW1mZlYQDm0zM7OCcGibmZkVRJNCW9LXJT0raaqk0ZI6Suoh6UlJ0yWNkbR+PnaD/Hx63t+9OU7AzMysrWh0aEvaHvgaUBsRvYH2wHHA94CrI2InYCEwNH/JUGBh3n51Ps7MzMzWUlOrxzsAG0rqAGwEzAH2B+7I+0cCh+XHg/Jz8v5+ktTE1zczM2szGh3aETEbuAp4lRTWbwGTgDcjYmk+bBawfX68PTAzf+3SfPyWjX19MzOztqYp1eObk+6eewDbARsDBzW1QJKGSZooaeL8+fOb+u3MzMyqRlOqxz8HvBwR8yNiCXAX8Glgs1xdDtAVmJ0fzwa6AeT9mwL/qv9NI+KGiKiNiNrOnTs3oXhmZmbVpSmh/Sqwt6SNctt0P2Aa8DBwVD5mCDA+P74nPyfvfygiogmvb2Zm1qY0pU37SVKHsmeAv+fvdQNwLnCWpOmkNusb85fcCGyZt58FDG9Cuc3MzNqcDms+ZNUi4kLgwnqbXwL2auDY94Gjm/J6ZmZmbZlnRDMzMysIh7aZmVlBOLTNzMwKwqFtZmZWEA5tMzOzgnBom5mZFYRD28zMrCAc2mZmZgXh0DYzMysIh7aZmVlBOLTNzMwKwqFtZmZWEA5tMzOzgnBom5mZFYRD28zMrCAc2mZmZgXh0DYzMysIh7aZmVlBOLTNzMwKwqFtZmZWEA5tMzOzgnBom5mZFYRD28zMrCAc2mZmZgXh0DYzMysIh7aZmVlBOLTNzMwKwqFtZmZWEE0KbUmbSbpD0vOSnpP0SUlbSLpf0ov5/83zsZJ0jaTpkqZI2rN5TsHMzKxtaOqd9o+AeyOiF7A78BwwHHgwInoCD+bnAAcDPfO/YcD1TXxtMzOzNqXRoS1pU6AvcCNARCyOiDeBQcDIfNhI4LD8eBAwKpIngM0kbdvokpuZmbUxTbnT7gHMB26W9FdJv5C0MbB1RMzJx7wObJ0fbw/MLPn6WXmbmZmZrYWmhHYHYE/g+ojYA1jEf6rCAYiIAGJdvqmkYZImSpo4f/78JhTPzMysujQltGcBsyLiyfz8DlKIz62r9s7/z8v7ZwPdSr6+a962koi4ISJqI6K2c+fOTSiemZlZdWl0aEfE68BMSR/Lm/oB04B7gCF52xBgfH58D/DF3It8b+Ctkmp0MzMzW4MOTfz604FbJa0PvAScRLoQGCtpKPAKcEw+dgLweWA68G4+1szMzNZSk0I7IiYDtQ3s6tfAsQGc2pTXMzMza8s8I5qZmVlBOLTNzMwKwqFtZmZWEA5tMzOzgnBom5mZFYRD28zMrCAc2mZmZgXh0DYzMysIh7aZmVlBOLTNzMwKwqFtZmZWEA5tMzOzgnBom5mZFYRD28zMrCAc2mZmZgXh0DYzMysIh7aZmVlBOLTNzMwKwqFtZmZWEA5tMzOzgnBom5mZFYRD28zMrCAc2mZmZgXh0DYzMysIh7aZmVlBOLTNzMwKwqFtZmZWEA7tNur9999nr732Yvfdd2fXXXflwgsvBOAzn/kMNTU11NTUsN1223HYYYcBMH78eHbbbTdqamqora3lT3/6UyWLb2bWJnVo6jeQ1B6YCMyOiIGSegC3A1sCk4ATImKxpA2AUcD/AP8Cjo2IGU19fWucDTbYgIceeohOnTqxZMkS9tlnHw4++GAee+yxFccceeSRDBo0CIB+/fpx6KGHIokpU6ZwzDHH8Pzzz1eq+GZmbVJz3GmfATxX8vx7wNURsROwEBiatw8FFubtV+fjrEIk0alTJwCWLFnCkiVLkLRi/9tvv81DDz204k67U6dOK/YvWrRopWPNzKw8mhTakroCA4Bf5OcC9gfuyIeMBA7Ljwfl5+T9/eRP/opatmwZNTU1dOnShQMOOIA+ffqs2Ddu3Dj69evHJptssmLb3XffTa9evRgwYAA33XRTJYpsZtamNfVO+4fAOcDy/HxL4M2IWJqfzwK2z4+3B2YC5P1v5eOtQtq3b8/kyZOZNWsWTz31FFOnTl2xb/To0QwePHil4w8//HCef/55xo0bxwUXXFDu4pqZtXmNDm1JA4F5ETGpGcuDpGGSJkqaOH/+/Ob81rYKm222Gfvttx/33nsvAAsWLOCpp55iwIABDR7ft29fXnrpJRYsWFDOYpqZtXlNudP+NHCopBmkjmf7Az8CNpNU18GtKzA7P54NdAPI+zcldUhbSUTcEBG1EVHbuXPnJhTPVmf+/Pm8+eabALz33nvcf//99OrVC4A77riDgQMH0rFjxxXHT58+nYgA4JlnnuGDDz5gyy1dUWJmVk6N7j0eEecB5wFI2hc4OyKOl/Rr4ChSkA8BxucvuSc//0ve/1DUpYCV3Zw5cxgyZAjLli1j+fLlHHPMMQwcOBCA22+/neHDh690/J133smoUaNYb7312HDDDRkzZow7o5mZlZmaIzdLQnugpA+TAnsL4K/AFyLiA0kdgV8CewBvAMdFxEur+761tbUxceLEJpevVPfhv2vW71dOM0Y0XF1tZmbVQ9KkiKhtaF+Tx2kDRMQjwCP58UvAXg0c8z5wdHO8npmZWVvULKFtrVORaxXANQtmZvV5GlMzM7OCcGibmZkVhEPbzMysIBzaZmZmBeHQNjMzKwiHtpmZWUE4tM3MzArCoW1mZlYQDm0zM7OCcGibmZkVhEPbzMysIBzaZmZmBeHQNjMzKwiHtpmZWUE4tM3MzArCoW1mZlYQDm0zM7OCcGibmZkVhEPbzMysIBzaZmZmBeHQNjMzKwiHtpmZWUE4tM3MzArCoW1mZlYQDm0zM7OCcGhbm3DyySfTpUsXevfuvWLbscceS01NDTU1NXTv3p2amhoAbr311hXba2pqaNeuHZMnT65U0c3MVnBoW5tw4okncu+99660bcyYMUyePJnJkydz5JFHcsQRRwBw/PHHr9j+y1/+kh49eqwI9KJYl4uUf/3rX+y333506tSJ0047rVJFNrO10OjQltRN0sOSpkl6VtIZefsWku6X9GL+f/O8XZKukTRd0hRJezbXSZitSd++fdliiy0a3BcRjB07lsGDB//XvtGjR3Pccce1dPGa3bpcpHTs2JFLL72Uq666qhJFNbN10JQ77aXANyJiF2Bv4FRJuwDDgQcjoifwYH4OcDDQM/8bBlzfhNc2azaPPfYYW2+9NT179vyvfWPGjGkwzFu7dblI2Xjjjdlnn33o2LFjOYtoZo3Q6NCOiDkR8Ux+/A7wHLA9MAgYmQ8bCRyWHw8CRkXyBLCZpG0bXXKzZjJ69OgGg/nJJ59ko402WqmKuRqs7iLFzFq3Ds3xTSR1B/YAngS2jog5edfrwNb58fbAzJIvm5W3zcGsQpYuXcpdd93FpEmT/mvf7bffXsi77DVZ1UWKmbV+TQ5tSZ2AO4EzI+JtSSv2RURIinX8fsNI1efssMMOTS2e2Wo98MAD9OrVi65du660ffny5YwdO5bHHnusQiVrGau7SDGz1q9JvcclrUcK7Fsj4q68eW5dtXf+f17ePhvoVvLlXfO2lUTEDRFRGxG1nTt3bkrxzFYYPHgwn/zkJ3nhhRfo2rUrN954I7Dqu+lHH32Ubt268eEPf7jcRW1Rq7pIMbNiaPSdttIt9Y3AcxHxfyW77gGGACPy/+NLtp8m6XagD/BWSTW6WYsaPXp0g9tvueWWBrfvu+++PPHEEy1YopY1ePBgHnnkERYsWEDXrl25+OKLGTp06CovUrp3787bb7/N4sWLGTduHPfddx+77LJLBUpuZqvTlOrxTwMnAH+XVDfzxLdIYT1W0lDgFeCYvG8C8HlgOvAucFITXtvMVmNdL1JmzJjRcoUxs2bT6NCOiD8BWsXufg0cH8CpjX09szXpPvx3lS5Ck8wYMaDSRTCzVq5Zeo+bWfn5IuU/Tj75ZH7729/SpUsXpk6dCsCvf/1rLrroIp577jmeeuopamtrgTRN7ZVXXrnia6dMmcIzzzxTuFnvrG3yNKZmVngNzQDXu3dv7rrrLvr27bvS9mqYptbaLt9pm1nh9e3b97/a5Xfeeec1fl1Rp6m1tst32mbWZhVxmtqGFoN54403OOCAA+jZsycHHHAACxcuXOlrnn76aTp06MAdd9xR7uJaM3Nom1mbVNRpahtqChgxYgT9+vXjxRdfpF+/fowYMWLFvmXLlnHuuefSv3//chfVWoBD28zapKJOU9vQYjDjx49nyJAhAAwZMoRx48at2Hfttddy5JFH0qVLl7KW01qG27TNrM2ptmlq586dy7bbpvWXttlmG+bOnQvA7Nmzufvuu3n44Yd5+umnK1lEaya+0zazwmtomtq7776brl278pe//IUBAwZw4IEHrji+WqepBZBE3RoQZ555Jt/73vdo184f9dXCd9pmVnirmgHu8MMPb3B70aeprW/rrbdmzpw5bLvttsyZM2dFVfjEiRNX9I5fsGABEyZMoEOHDhx22GGr+3bWivnyy8ys4A499FBGjhwJwMiRIxk0aBAAL7/8MjNmzGDGjBkcddRRXHfddQ7sgvOdtpm1ep797T8aWgxm+PDhHHPMMdx4443suOOOjB07ttlez1oXh7aZWYGsqingwQcfXO3XrWqxGCsWV4+bmZkVhO+0zcxaGTcH2Kr4TtvMzKwgHNpmZmYF4dA2MzMrCIe2mZlZQTi0zczMCsKhbWZmrVZD64dPnjyZvffem5qaGmpra3nqqacqWMLycmibmVmr1dD64eeccw4XXnghkydP5pJLLuGcc86pUOnKz6FtZmatVkPrh0vi7bffBuCtt95iu+22q0TRKsKTq5iZWaH88Ic/5MADD+Tss89m+fLlPP7445UuUtn4TtvMzArl+uuv5+qrr2bmzJlcffXVDB06tNJFKhuHtpmZFcrIkSM54ogjADj66KPdEc3MzKy12m677fjjH/8IwEMPPUTPnj0rXKLycZu2mZm1Wg2tH/7zn/+cM844g6VLl9KxY0duuOGGShezbBzaZmbWaq1q/fBJkyaVuSStQ9mrxyUdJOkFSdMlDS/365uZmRVVWe+0JbUHfgIcAMwCnpZ0T0RMK2c5zMys9fD64Wuv3HfaewHTI+KliFgM3A4MKnMZzMzMCqncob09MLPk+ay8zczMzNZAEVG+F5OOAg6KiC/l5ycAfSLitJJjhgHD8tOPAS+UrYDNYytgQaULUSZt6VzB51vN2tK5gs+3tdsxIjo3tKPcvcdnA91KnnfN21aIiBuAwvbflzQxImorXY5yaEvnCj7fataWzhV8vkVW7urxp4GeknpIWh84DrinzGUwMzMrpLLeaUfEUkmnAX8A2gM3RcSz5SyDmZlZUZV9cpWImABMKPfrllFhq/YboS2dK/h8q1lbOlfw+RZWWTuimZmZWeN5wRAzM7OCcGibmZkVhEPbzJpE0mcknV7pcrQmkjpWugxWfpLU0q/h0LZm0dAvq6Q28ftVjj/UVm4RcL6koZUuSGsg6SPArZI+XOmyNLe633VJG9VdmOQ1Jdq0ks+ADVv6tdrEh2olSNqo0mUoF0ntIvdozKu4HSZpp4hYXumytTRJKjn3nSX1rnSZykVZRDwDXAh8V9IZlS5XJeUP7w+AacBlkrqt4UsKJSJC0iDgTuAuSX0iYllbD+78vgwEJki6QNKhLfVaDu0WIOlg4BZJV0raqtLlaUmS2teFs6SvAt8BPgr8VVJVzEDUkLor65LA/jpwHTBC0t2Stqxk+cohMklnAp8FbgMuz+9Fm1N3ARcRs4C/AhuQfh+qJrgl7QycBXwf+C1wr6S923pwS+oFfAH4JfBv4AhJg1vitRzazUzSXsC3SR9guwLfkbRLZUvVMiQdAlwiqYOknYADgc8BbwBPAc+UHFttv2sr2iwl9QMOiIj9gInARqT3oG5/VVaf5xvtbYHjgSsi4htAH+DcthjcJRdw3wDOBqYA6wP/J6l75UrWPCR9DDgfmBYRD0fEdcC5wD2SPh0RyypbwvLLfwO9SJ93EyPiRmAMcB/QX9IXm/s1q+2DtKLyH+Zw4MGIGAccRfqjPUXSrtX04S1pO9If8E2kyfjfBP4M/AA4mrQwzHJJp0vaqpqqynNb5a35QgXgX6SqwsuATwID8x1of/jPh3k1KP0dzuf1OvAssJ6kDhExFTgP+EFL3Wm0ZpI2IF24/G9EXAR8E5gOXCpph0qWrRnMIa0VsYOkT+VathuAS4A/SNq0Ci/OVyvXrDxPWmb6XEkbRsRrwIPAH4ED84Vts2lTb3BLyp0y3iQtN3pAbut5FzgT2Aw4jXQHVi3akdruvgJcBWwM1JBC67CIWCLpWOBkquu8YeU2y4+QqsO+DPwP6WJlSe6UdaGkzStYzmZVr/1+D0m75+evku4sN8mHLiRVEz5dmZKWTwMX4gFsQ7pwJSJmkGqcdgcuklT2WSgbq6TT2SdzrdqeEXEu6XyOAfbK/Vl+DOwcEW9V08X5qpS8L7tLOlxS94gYBowC/i7pQxExF7gX+GZEzGnW16+im4CKkdQD+D0wkHQlejbpD/eWiHg6B/pO+S6k0CTtA/wzIuZI+jHwJeCrEXFTvgP9JTCVFNS7Al+shvOGFR3u6trvuwD/D+hNunD5HPB1UtVYZ+AQYHA1zq2vNLzrWOA50vnvR6pxWQ9YSrp4GxARL1WskGVQ7yJmAPA2qeZhY+BS4I6IGJlrHPYCvhcRr1eswI0g6SDgSlIAfQb4W0R8RdLFwNbAqIh4vO5vo/Q9qWa5o9llpKWjA3g2Ii6SdCWpueijEfHvFnntNvD+loWki4DDgcNIdxpfJXXIuj4inqxg0ZqVpK8B40kfTvsCHyGF1dkRMT5Xm+8CdAIm5zuNwqv3AX0I8BjpwuTLpPOtu9P+OLAlcGtE/KNCxW0xkvqSmkUOAc4g1ap8Ou/bk/RB/o+I+GflSlleks4CDiUthPR5UmC3A35Cauv8FHBwREyrWCEbQWklxjHAyNzch6QnSQF+OfA94GcR8VzlSll+kjYEbga+HxHPSPoU6e/h2Yj4laSbSTdsf2yJ1y9MVU1rlO+w34uI1/NV1vukHpUHAT8jVYkvqmQZm0tJz9hrJO1GqlkYEBF/kPQWcLWkJXlBmNcqW9rmVxLYXyX9XAdGxEuSfkEK7J8C34qIhytYzGbXwJ3T66T2u+HAPqS7bCQdEhG/qUARKyp/BuwbEftKGgEsiIj78r5aoAvwTm7nLJSIWCxpPvBuyeaTSRfoH0g6OyKWVqh4lbYNsAepqeAJYE9SbduvIuIkaPBvp1m4TbuRclvmzcBXJW0NEBEjSFfWD5GqyC6rhqrh+r98ETGF1Dvy17k951ZS56PbJH2uUuVsCZI+VPJ4F+BE4MC6qt+ImA38ApgJXCxpvWrpjFOvdmGj3Ja3hPSzHhAR/fMH+wnA11TlwxuhwTZsAf+WdAWpOeh/83FHAx0j4oWiBHZJW20vSTtK2oTUoeoXJZ2ptgPq9lV9+zWs9L7slD/v3iPVMuwl6cDcZDYZ2Dh3xltpOGhz8512I0jandQR4yFS1de7km7J7VX3kaoId4yIVytYzGZR74P7QNK5/TIizlTqLX23pMMjYoykpcCMCha3WUnaFdhP0g0RsRhYBsyLiJl5f4d8p7EAuALoEBFLKlfi5lXyc/8Gqdp3EjCSNOjwQZkAABS7SURBVB51Qq4W3gY4ADghIhZUqqzlUO9vYZtcw/aSpH+TPg8+ERHv5U6IpwCPVLC466Tu3JRGPNxE+mzbAxgEfBd4UNIfgP7AORHxduVKWz4l70td2/6bkp4mXaQ/ClyhNNnMQcDXIuKtFi+T27TXTW7PPJs0TvefpM44fYEnSVXhR5M+wJ6tpk4Zkr5MqhZ+k9Rmf34+x0uALwJ9q+EipZTSBCkiVXFuAPyNdOfxQERclo8ZRqoa+2q19JytF047kdovf07qo/F50jCmDqQ+DZ2AX0fEi5UpbXnUe0/OIPVfWQicQ/r9OIx0Af9A3ve/Ratly9X5xwC/iYjHJA0hBdWepH4aGwFLc+faqvlsW5P8vlwEfIM0cmQf4BPAWNJwz52A13L7dou/Lw7tdZCrwe8EvhQRz0s6jTRG+V1SU8NmwF8iYnwFi9kstHJP6c8AF5DacRdLuor0QTUiIqZJ+jZwW7X0Fi6t3lLq+f9T4C3getIH1wWkXtJPk3pRnxgRf69QcZtVAzUr/wMsiYgrJW0KHEkKpR9FxAMVLGpFKPUaPoU0cuA8oD1wI+nifSDpwv3ZIl3E5OacdqTOlZ1Jd9fPR5rl7HygU0ScV8kyVoqkjYGLgZNII4AWSupKmkDrmUjj1MuqKtreymgx6T2rm6LyZ8D2pDuOF4Hzcg/qwk+iUhLYx5KGenyMdJdFRJwNzCWNU+4VEd+tlsDO6qrENo6I90k1K8tJNQpB6ozzV9IH9BeqJbBhpSrxIaSJcvYCBkvqmav+fg1MAL4sqVM1/K6vjtIKZrX5cW9SbdOzEfFKRJxCutM6hTRO+daIGFeUwC752bXLzTwDSPNMDIv/zG42D6iauQbWRunvdEQsAn5EmjjqmvyZMIs01Gs3Se3K/Tfg0F4HEbGQdKe9v6Teuf3yDtIH+qHkqS2LXG2kNNPRcSWbhpKqhH8MHCRpf4CI+CZpJqyqaduSVKs0o9FypaFt90j6Juki7UJSVfBxwDYRcXlE/CSqZLhL6QePpP1Id5KfiojDSB9YF0v6WES8QxqLPywi/l3k3/W1tCkwV9JmpLvpR4BPKK0vQEQMJ9XCnKQCLcdZ0lbbjzTpy3Gk6v7DgD6Sfi/pVNLIiHsrWdZyKnlfDlSazfHM3Iflq8D7wCOSvkDqcPi7iFhe7r8Bh/a6G0OamvTK3BHrGtI0fpuT2vyKbnPSog91wb0J8DLpDutF4ChJdXfc3y5Kz9g1yaH1JdICCINIQ5l+Rupo9RXSePTzSc0hxylNV1kV6lWJDyBdfH6EVLNARJwOzCdNTbpTDusW73DTGkTEb0n9Gv4OfDIiLgfuJi0IcVA+5gzg27lWphDqggm4ljRs6bvA/5FGvfQn9eE4jlSTNE5VMiJiTfL7MoC0IMrfgTMk3Zjvrs8n1TCeRhre+XtVYIa7NvGDaE75h3clqcrkbdL84gK6k8awFlpE/A44FfhWDq8HSFXCr5GqRV8i9aiuGwJUFXJofZ3UTv0D0oQSY0nDueYBJwC9SNPSXhcRH1SqrM2tJLCPIQ1lmQKcTlrw4Av5mDNIU7e+V6lylkv9gModLL8LXCtpb9KkKVOAE5WHOEbE/LIXtJGUdAaGAEeQOpd+AGxBaqvdiNSu3Y70e7CiuazaKU07/CXSBcsmpF7ie0saFxHzSDVQjwJDclV5+cepR4T/NeEf6Y7sCWD3Spelmc9rAPA8qep/FPAwaVKN24DNK12+ZjxP1Xu+PvArUkB1zNt6kmpTrgA2qHSZW+h9+BRp+tk++fkWpE5ndwNfrnT5KvSeDCQ1D3XJz08i3X31IfWePwXYttLlbML5bUHq+fw46c66B2n44uV5fxfS0K+tK13WMr8v25LG3Nctr7pV/hy8Le/fFRhRqZ+9x2k33fPAsRHxSqUL0pwi4ndKM7xdRRrOdhKp2nSLSG37hddAT+mNSZMknEqaivIepTHoL0oaCbwZVXKHXe/cRbrTep80hOnIiHhD0gOki5hDJY0hzexVtW3Y9d6TE0nVoY+QFn45KCJulrSc1K/l8Ij4acUKu45K2mo/DexGukCbRqolXC/SDGftSWPxRwNExDxJn4sqvssueV/2JvWcnxMREyVtQWo2CNJF+/dJtY5EGup6QVRoTgZXjzdRRMyptsCuExEPkqarPI/0Qb4o8sQi1aDkA/ps4FvAp0l32TWk8HoeeFjSRhHxz4j4V8UK24zqhdOOpDvJSaSFDt6T9AOASO3WvyN1Onu7DQV2F9IwzgMi4svADcBYSbtGxEjSGtKF+l3IwXQIqWp/Y9LY+8GkZUMnSXqc9LO+JlYeDVG1P3NYqW3/ZtJsb0/mZsEANiS1+Y8D7o2IB+qaTioV2OBx2rYWJB1AWtmrmoZ1ASumJj0nIk5UmuGrP6lpAFLV2CWkD7KqmjgGQNKZpFEP7wBTI+L8/H58E1gcEV+paAHLpF5gn0lqt/wAmBCpdziSziO17/aLAo4YUFrk4lrSRfiepOrdz0fE67kd9+PAonzx1ibkGqbNSePsh5Oqwa8HPpdrGXYiDeldGhF/rlxJV+bqcVujiLi/0mVoCZI+QRqD/pak20h/wIdEmlTiGNLMZ2dXtJAtJFf/HgEcSLrrOk/SVpGWXbwa+H+SukTqfFPVSgJ7H9KKbUeRgm0vSV+NiOsi4gpJi0lhXiiSto20lO5CUnDvAByRA/sgYH5EPFrZUlbEBrkZ6C+kkRL9SM0e85TmKXgiWmilrqZw9bi1Sfkq+7OkDlizSXOqnxURS3KgXUAed18NGujpP4M0ZeWXgB1JnY6OlnR9pAVhzqj2wC59T3Jg/wZYnquHf0PqJbyr0tzrRMQPilbblHuJf0vS/5D6pvQCfhgRM/I5X0Pqt9CmSPoocHNux9+YNDrk+Ij4p9LaEueS7rxbHVePW5uT26jfzWMsf0+aVGImaWzyPFLb9jER8WwFi9ls6lX/bkAKpiVK05LeCFwVEU9IuoY01OcTbSGwS96TU0iLwYjUl+GkSHNvb0KabKQGuLQoHTBLOldtAvybVBX+HGn0x1mkGRxfI82ffU6ksehVr/Rnnp+PI809MRy4C3iD1Ja9J/CdiLinIgVdA4e2tSlKs33tCzwdEb/N7fUfJ8361Jk0DOaZaulcWC+cziLVLPwbuCIiXpD0E1JnpPVJvYrPioi5FStwmSlNFHQo6f14RWlhnHOBkyPi0Rx8EWkmuMKQtCdpBMT/keZWuBcYGhF/kvQxUqer+RExtX6YVTOlGeDOBr4DvErqvzGeVAuxH7Ae8HruQd4q3xe3aVtb8wrprvr7knqSFv44FPhTa2y/aqqSwO4LHEKajvWzwF1KU3HeRup49ynS0oJVHdgld6HtSZOI/Ig0DelipUVyfi5pGTBO0sCIeLyiBW68TYDdgetIQxhvA86W9HJEvECaOxso9rTLa6Ne+M4j9Vv4Bqlm5UnS3ASPAX8o/brW+r74TtvapNymdSyph/i3SNO0foHUU7Sq/ijyEJYTgEcj4pq87TxSm/ZRuR2vYxRoGs7GqFfr8KGIeCe3+d4D3BcRF5YcewJpxb7pFSpuoyitAd+DFEB7kyaA+Qfp9/wc0ixot1Xb7/iaSPos8KFcu3YaaYx6L9L78QnSUqq3V7KMa8t32tYmRcQ/JH2fdLX9PjC2kmMvW4rSClX7kxY96VXXIzz3ht4IuE1p6dXC9YpeVyWB/RXSVLwvkjqbHQ48IGlJRHw3H/vLypW0ST4B9CaNwf4taSKYmaTJVLYF5ra1wM42Jq2p0Jm0nsAnSYuhPEwa4vdGBcu2TnynbW1Wa22zaoqS6t92kVYrO5nUO3w9UhX470nzqr+ej98yqmTSmLUh6STS3dXpwNXAcxFxuqRupOk8fxIRIypZxqbK4673J027+xbwj4g4vmR/1f3er07J30Rv4ADS0M5TSZOmnAZ8kP9WCvG+OLTNqpDS+tcv5rbbY0nBvRmwB6kd79pq7yHekDx5ym9I7frHkdeIJ9W4dCbNN1+0YV3bkBb9WBwlU45KqiGt/X4kKayejyqekrQhpcP6cnB3Aj5EGq++E2lehkLN8uhx2mZVRtIOwP2SToiIZcBY0gp03UhroNeQhjhVNUlbS9ojPz5e0rbAEuBPwHER0T/SKk1fAk6PiNcKGNhdSSuzday7W8zbFRGTSfMN1EbEtLYQ2CXnv2O+YF2v9O450rKycyLiKNLvQKECGxzaZlUn0pSrpwNflzQ4IpZGxM2kO8l5pKE/baFKfH3gJ0qLnZxBGoM7ltRJa5qk9fLMV6eShkQVTqSlgjsBF+fnUe//tyJiTuVKWD4l1eAHkRb3uA34kqRt8va6QG8PEBHPV7C4jebQNqtCEfEb0trI50k6WdIRedfIaq8Wr/twzndRY0hD2u7K7fjv8J9FMyaQetUPjohpFSpuo0jaJteoQBq+FEorU7VZOZj7kJoDvgDcAXQHTi4N7lz7VFhu0zarYnmoy8WkVavOi4i/VbhILaresK52pHbLbYCfk6bvvL5uX65O3igi3q1ciddNviDZktQm+wEwhXRH+StSP4XxFSxeReXREL8hzSm+T972eVL/hfeAn1VDrYND26zK5Q+ziIj3Kl2WcpE0DKglzbE+ljTZyK9JM2F1InXMGkxBxuWXVP1uEhFv5x7i25DmDr8XGArMJY03LnwwrStJOwMfJQ1vu5MU0CPyvkGk4P5JRPyzcqVsHh6nbVblinQn2RzyOOzjgPNJnbQ2i4hzJH2BNEXp+qRah8KMy8+BfRhp9bUtSHfXt5Cq/nckLW7Tj7Twy5yiDF9qRn2Aj0bEeElHA9dJWh4R38/bHo+I+ZUuZHPwnbaZFVq+y/p3XU/gPNvbz0mLfRwNDCT131lGGq/eLiIWVai4jaK0zvmvSEtIbpL/fxW4su7iQ9K5pIlVvthWAlvSx0mzvb1IqlH5WUTcpbSq2Sjg1oi4vJJlbG6+0zazwso9gS8gzR1+QQ7uDYCJwLMRcWA+7hRSG/AtRQi0em3z7UnjyOdHxNS87S1gNDCZ1KEO0sIgnyZdmCwue6HLLNc4/Jg0lPEEUlPBFZKmR8SkPDJgg0qWsSW497iZFVLuTLYsIv4X2BT4hqQtSXdYk/I/8of36aS5xAsR2MDhkvbOE6RcRBpf/rqkAyVtHGnZ2DGkVemQtD5pSNt5EdEWAnuziHiDNOvbO6SmkM1Ik8wcJWnDiJgYEX+uZDlbgqvHzazQlBb3OJx0l/kYqd26K/A10tCuTsBXokDro+ew/j2pSv+zkRZ1GU5qs36HdEFyDXB8XTC1lXbsPOXst4F/ktbB7k5aXvfvpJ/5PsDHqqUNuz6HtpkVlqR9SVWkfUgdzH5GWvzhgoiYr+Kuh70xaRKYrUmztd2b76YHkma0605arevethDWJb3n20fEMkmfJC09+mXSRCpvRsQV+djdImJKJcvbktymbWaF0UBAvUNaG1oRsVDSF4FngFGSvpxnDCuciFgk6QBgT1JP6K0i4leSppJCalHdJCHVHtiwovf8IcCRkjYjLfYyirTs6HeAvpK2i4jTSSuaVS2HtpkVQr3OWR2B5aRxucuAPST9LY9hvhk4iLTkamHlcfV/lvQt4EdKa2XvR6rqr+pJcurLvcG/R5onvi9ppbbuETFS0gzSz3saQFT5HOuuHjezVq9eYJ9FWg/5HeBbpCVHh5DusII0kcYJETGjMqVtfrk6eChp3ff7Kl2ecpN0PHBARJyYnx9B6nw2KCJmlVSbV31TgXuPm1mrVxLYfYFDSNN4vkpq9/0zqYp0NqkX+bBqCmyAiPgLcEpE3Fc3t3o1K1nco+5cpwEbS9oTICLuIq1Y99H8vM00Fbh63MwKIU9HeQJwd0Q8CjwqaTEpuI+NiOvq5hSvaEFbSKRlRNtEMOU27H7ALpLmRcQYSa8Ch+TJdP5BqmG5sqIFrQCHtpm1epJqgf1Ji2X0ktQlIuZFxOW5ffuXkvYBlla0oNYscnPAz0mjAX4oaTtgOPAVYBCwIXBWRPy9cqWsDLdpm1mrUzLEp241rpNJc2yvR7rD+j1pmdHX8/FbRttYI7zq5alJhwGPRcRYSTsCT5KmbP1BPmbLiPhXW2jDrs9t2mbW6pR8EH8k/z+SNLTrHdIHeD/gVEld8vEO7ALLU7XWrUj3cdJQtz3yULdXgL2AiySNyF/yBrSNpoL6HNpm1ipJ2gG4X9IJuaPRWOB10lzTz5ImGVlWwSJaE0naFFJHMkm7kxb4uA24AdgW2EfSFhHxKrArcH8+vs2FdR2Htpm1SvmD+nTg65IGR8TSiLgZ6AzMA4b6Dru4JHUCviPpjLzpfdLc4UTESOAvpJECn8vV4a9GxINtoff86rgjmpm1WhHxG0nLgBGSNiR/qJPas+dVsGjWPKYAfXKfhSnAgrodEfGzXG1+CPDHku1t9i4b3BHNzApA0meBi4F3SStZtakZwapNSUfDDwGfJy3y0Rn4MGnSlK6kcfhzSfOKF3I62pbg0DazQsidlCJP72kFVRLYWwJvRcRSSUcBJwG9SO3ZPfPhYyLi/kqVtTVy9biZFUJEvFvpMljT5cA+lFRz8g9Jj0bET3JT9b7A6xHxvUqWsTVzaJuZWdlI2gn4Imnd87eBGyRtGBFXSVoP6C/p4dwR0epxaJuZWVnkYXwjgefqFj6RdBxwm6T1IuKKHNivV7SgrZiHfJmZWYuT1DXfPd8OfEzSJyR1iIhpwBeAEyX1cGCvnjuimZlZi5K0DXAB8HxEXCvp66RZ7S4CJufOaBtHxKJKlrMIfKdtZmbNrt4kKPOAJ4CPSBoWEVcDD5BW6doDwIG9dtymbWZmzS73Ev8U0CMibpV0K7AY+IykIRHxQ0kdAFf3rgOHtpmZtZTNgUslLYuI2yXdSZpD/GuSOkbEVRUuX+E4tM3MrEVExO8kLSdNQ9suIm6T9BBp8pTHKly8QnJom5lZi4mI30sKYFSuLj8Y+EruNW7ryL3HzcysxUnqDXwKmBYRf6p0eYrKoW1mZlYQHvJlZmZWEA5tMzOzgnBom5mZFYRD28zMrCAc2mZmZgXh0DYzMysIh7aZmVlBOLTNzMwK4v8Ddw9ZlKYNzoEAAAAASUVORK5CYII=\n",
            "text/plain": [
              "<Figure size 576x360 with 1 Axes>"
            ]
          },
          "metadata": {
            "tags": [],
            "needs_background": "light"
          }
        }
      ]
    },
    {
      "cell_type": "markdown",
      "metadata": {
        "id": "GqXH5Xag2Zi-"
      },
      "source": [
        "## 3: Plot number of age of killed people under two groups : Under 25 and Above 25"
      ]
    },
    {
      "cell_type": "code",
      "metadata": {
        "id": "V4mng-vC2Zi-",
        "colab": {
          "base_uri": "https://localhost:8080/",
          "height": 307
        },
        "outputId": "01c48c2d-3344-4b26-ff0b-632378fb59f2"
      },
      "source": [
        ""
      ],
      "execution_count": null,
      "outputs": [
        {
          "output_type": "execute_result",
          "data": {
            "text/html": [
              "<div>\n",
              "<style scoped>\n",
              "    .dataframe tbody tr th:only-of-type {\n",
              "        vertical-align: middle;\n",
              "    }\n",
              "\n",
              "    .dataframe tbody tr th {\n",
              "        vertical-align: top;\n",
              "    }\n",
              "\n",
              "    .dataframe thead th {\n",
              "        text-align: right;\n",
              "    }\n",
              "</style>\n",
              "<table border=\"1\" class=\"dataframe\">\n",
              "  <thead>\n",
              "    <tr style=\"text-align: right;\">\n",
              "      <th></th>\n",
              "      <th>id</th>\n",
              "      <th>name</th>\n",
              "      <th>date</th>\n",
              "      <th>manner_of_death</th>\n",
              "      <th>armed</th>\n",
              "      <th>age</th>\n",
              "      <th>gender</th>\n",
              "      <th>race</th>\n",
              "      <th>city</th>\n",
              "      <th>state</th>\n",
              "      <th>signs_of_mental_illness</th>\n",
              "      <th>threat_level</th>\n",
              "      <th>flee</th>\n",
              "      <th>body_camera</th>\n",
              "    </tr>\n",
              "  </thead>\n",
              "  <tbody>\n",
              "    <tr>\n",
              "      <th>0</th>\n",
              "      <td>3</td>\n",
              "      <td>Tim Elliot</td>\n",
              "      <td>02/01/15</td>\n",
              "      <td>shot</td>\n",
              "      <td>gun</td>\n",
              "      <td>53.0</td>\n",
              "      <td>M</td>\n",
              "      <td>A</td>\n",
              "      <td>Shelton</td>\n",
              "      <td>WA</td>\n",
              "      <td>True</td>\n",
              "      <td>attack</td>\n",
              "      <td>Not fleeing</td>\n",
              "      <td>False</td>\n",
              "    </tr>\n",
              "    <tr>\n",
              "      <th>1</th>\n",
              "      <td>4</td>\n",
              "      <td>Lewis Lee Lembke</td>\n",
              "      <td>02/01/15</td>\n",
              "      <td>shot</td>\n",
              "      <td>gun</td>\n",
              "      <td>47.0</td>\n",
              "      <td>M</td>\n",
              "      <td>W</td>\n",
              "      <td>Aloha</td>\n",
              "      <td>OR</td>\n",
              "      <td>False</td>\n",
              "      <td>attack</td>\n",
              "      <td>Not fleeing</td>\n",
              "      <td>False</td>\n",
              "    </tr>\n",
              "    <tr>\n",
              "      <th>2</th>\n",
              "      <td>5</td>\n",
              "      <td>John Paul Quintero</td>\n",
              "      <td>03/01/15</td>\n",
              "      <td>shot and Tasered</td>\n",
              "      <td>unarmed</td>\n",
              "      <td>23.0</td>\n",
              "      <td>M</td>\n",
              "      <td>H</td>\n",
              "      <td>Wichita</td>\n",
              "      <td>KS</td>\n",
              "      <td>False</td>\n",
              "      <td>other</td>\n",
              "      <td>Not fleeing</td>\n",
              "      <td>False</td>\n",
              "    </tr>\n",
              "    <tr>\n",
              "      <th>3</th>\n",
              "      <td>8</td>\n",
              "      <td>Matthew Hoffman</td>\n",
              "      <td>04/01/15</td>\n",
              "      <td>shot</td>\n",
              "      <td>toy weapon</td>\n",
              "      <td>32.0</td>\n",
              "      <td>M</td>\n",
              "      <td>W</td>\n",
              "      <td>San Francisco</td>\n",
              "      <td>CA</td>\n",
              "      <td>True</td>\n",
              "      <td>attack</td>\n",
              "      <td>Not fleeing</td>\n",
              "      <td>False</td>\n",
              "    </tr>\n",
              "    <tr>\n",
              "      <th>4</th>\n",
              "      <td>9</td>\n",
              "      <td>Michael Rodriguez</td>\n",
              "      <td>04/01/15</td>\n",
              "      <td>shot</td>\n",
              "      <td>nail gun</td>\n",
              "      <td>39.0</td>\n",
              "      <td>M</td>\n",
              "      <td>H</td>\n",
              "      <td>Evans</td>\n",
              "      <td>CO</td>\n",
              "      <td>False</td>\n",
              "      <td>attack</td>\n",
              "      <td>Not fleeing</td>\n",
              "      <td>False</td>\n",
              "    </tr>\n",
              "  </tbody>\n",
              "</table>\n",
              "</div>"
            ],
            "text/plain": [
              "   id                name      date  ... threat_level         flee  body_camera\n",
              "0   3          Tim Elliot  02/01/15  ...       attack  Not fleeing        False\n",
              "1   4    Lewis Lee Lembke  02/01/15  ...       attack  Not fleeing        False\n",
              "2   5  John Paul Quintero  03/01/15  ...        other  Not fleeing        False\n",
              "3   8     Matthew Hoffman  04/01/15  ...       attack  Not fleeing        False\n",
              "4   9   Michael Rodriguez  04/01/15  ...       attack  Not fleeing        False\n",
              "\n",
              "[5 rows x 14 columns]"
            ]
          },
          "metadata": {
            "tags": []
          },
          "execution_count": 9
        }
      ]
    },
    {
      "cell_type": "code",
      "metadata": {
        "id": "1zfmB3FS2Zi-"
      },
      "source": [
        ""
      ],
      "execution_count": null,
      "outputs": []
    },
    {
      "cell_type": "code",
      "metadata": {
        "id": "DJzAOutV2Zi-",
        "colab": {
          "base_uri": "https://localhost:8080/",
          "height": 307
        },
        "outputId": "f1188a5c-2a2a-4cbd-b01e-751d47905f8f"
      },
      "source": [
        ""
      ],
      "execution_count": null,
      "outputs": [
        {
          "output_type": "execute_result",
          "data": {
            "text/html": [
              "<div>\n",
              "<style scoped>\n",
              "    .dataframe tbody tr th:only-of-type {\n",
              "        vertical-align: middle;\n",
              "    }\n",
              "\n",
              "    .dataframe tbody tr th {\n",
              "        vertical-align: top;\n",
              "    }\n",
              "\n",
              "    .dataframe thead th {\n",
              "        text-align: right;\n",
              "    }\n",
              "</style>\n",
              "<table border=\"1\" class=\"dataframe\">\n",
              "  <thead>\n",
              "    <tr style=\"text-align: right;\">\n",
              "      <th></th>\n",
              "      <th>id</th>\n",
              "      <th>name</th>\n",
              "      <th>date</th>\n",
              "      <th>manner_of_death</th>\n",
              "      <th>armed</th>\n",
              "      <th>age</th>\n",
              "      <th>gender</th>\n",
              "      <th>race</th>\n",
              "      <th>city</th>\n",
              "      <th>state</th>\n",
              "      <th>signs_of_mental_illness</th>\n",
              "      <th>threat_level</th>\n",
              "      <th>flee</th>\n",
              "      <th>body_camera</th>\n",
              "      <th>age_cat</th>\n",
              "    </tr>\n",
              "  </thead>\n",
              "  <tbody>\n",
              "    <tr>\n",
              "      <th>0</th>\n",
              "      <td>3</td>\n",
              "      <td>Tim Elliot</td>\n",
              "      <td>02/01/15</td>\n",
              "      <td>shot</td>\n",
              "      <td>gun</td>\n",
              "      <td>53.0</td>\n",
              "      <td>M</td>\n",
              "      <td>A</td>\n",
              "      <td>Shelton</td>\n",
              "      <td>WA</td>\n",
              "      <td>True</td>\n",
              "      <td>attack</td>\n",
              "      <td>Not fleeing</td>\n",
              "      <td>False</td>\n",
              "      <td>above25</td>\n",
              "    </tr>\n",
              "    <tr>\n",
              "      <th>1</th>\n",
              "      <td>4</td>\n",
              "      <td>Lewis Lee Lembke</td>\n",
              "      <td>02/01/15</td>\n",
              "      <td>shot</td>\n",
              "      <td>gun</td>\n",
              "      <td>47.0</td>\n",
              "      <td>M</td>\n",
              "      <td>W</td>\n",
              "      <td>Aloha</td>\n",
              "      <td>OR</td>\n",
              "      <td>False</td>\n",
              "      <td>attack</td>\n",
              "      <td>Not fleeing</td>\n",
              "      <td>False</td>\n",
              "      <td>above25</td>\n",
              "    </tr>\n",
              "    <tr>\n",
              "      <th>2</th>\n",
              "      <td>5</td>\n",
              "      <td>John Paul Quintero</td>\n",
              "      <td>03/01/15</td>\n",
              "      <td>shot and Tasered</td>\n",
              "      <td>unarmed</td>\n",
              "      <td>23.0</td>\n",
              "      <td>M</td>\n",
              "      <td>H</td>\n",
              "      <td>Wichita</td>\n",
              "      <td>KS</td>\n",
              "      <td>False</td>\n",
              "      <td>other</td>\n",
              "      <td>Not fleeing</td>\n",
              "      <td>False</td>\n",
              "      <td>below25</td>\n",
              "    </tr>\n",
              "    <tr>\n",
              "      <th>3</th>\n",
              "      <td>8</td>\n",
              "      <td>Matthew Hoffman</td>\n",
              "      <td>04/01/15</td>\n",
              "      <td>shot</td>\n",
              "      <td>toy weapon</td>\n",
              "      <td>32.0</td>\n",
              "      <td>M</td>\n",
              "      <td>W</td>\n",
              "      <td>San Francisco</td>\n",
              "      <td>CA</td>\n",
              "      <td>True</td>\n",
              "      <td>attack</td>\n",
              "      <td>Not fleeing</td>\n",
              "      <td>False</td>\n",
              "      <td>above25</td>\n",
              "    </tr>\n",
              "    <tr>\n",
              "      <th>4</th>\n",
              "      <td>9</td>\n",
              "      <td>Michael Rodriguez</td>\n",
              "      <td>04/01/15</td>\n",
              "      <td>shot</td>\n",
              "      <td>nail gun</td>\n",
              "      <td>39.0</td>\n",
              "      <td>M</td>\n",
              "      <td>H</td>\n",
              "      <td>Evans</td>\n",
              "      <td>CO</td>\n",
              "      <td>False</td>\n",
              "      <td>attack</td>\n",
              "      <td>Not fleeing</td>\n",
              "      <td>False</td>\n",
              "      <td>above25</td>\n",
              "    </tr>\n",
              "  </tbody>\n",
              "</table>\n",
              "</div>"
            ],
            "text/plain": [
              "   id                name      date  ...         flee body_camera  age_cat\n",
              "0   3          Tim Elliot  02/01/15  ...  Not fleeing       False  above25\n",
              "1   4    Lewis Lee Lembke  02/01/15  ...  Not fleeing       False  above25\n",
              "2   5  John Paul Quintero  03/01/15  ...  Not fleeing       False  below25\n",
              "3   8     Matthew Hoffman  04/01/15  ...  Not fleeing       False  above25\n",
              "4   9   Michael Rodriguez  04/01/15  ...  Not fleeing       False  above25\n",
              "\n",
              "[5 rows x 15 columns]"
            ]
          },
          "metadata": {
            "tags": []
          },
          "execution_count": 11
        }
      ]
    },
    {
      "cell_type": "code",
      "metadata": {
        "id": "fSQ8BTUD2Zi_",
        "colab": {
          "base_uri": "https://localhost:8080/"
        },
        "outputId": "89645134-4eb3-4034-bb3d-e446399aaad0"
      },
      "source": [
        ""
      ],
      "execution_count": null,
      "outputs": [
        {
          "output_type": "execute_result",
          "data": {
            "text/plain": [
              "above25    1905\n",
              "below25     630\n",
              "Name: age_cat, dtype: int64"
            ]
          },
          "metadata": {
            "tags": []
          },
          "execution_count": 12
        }
      ]
    },
    {
      "cell_type": "code",
      "metadata": {
        "id": "gpOukiYx2Zi_",
        "colab": {
          "base_uri": "https://localhost:8080/",
          "height": 269
        },
        "outputId": "84b257d1-14e1-4bef-d6a4-08cf0a236acb"
      },
      "source": [
        "# with matplotlib\n"
      ],
      "execution_count": null,
      "outputs": [
        {
          "output_type": "display_data",
          "data": {
            "image/png": "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\n",
            "text/plain": [
              "<Figure size 432x288 with 1 Axes>"
            ]
          },
          "metadata": {
            "tags": [],
            "needs_background": "light"
          }
        }
      ]
    },
    {
      "cell_type": "markdown",
      "metadata": {
        "id": "SZ-wps772Zi_"
      },
      "source": [
        "## 4: Plot number of killed poeple by race"
      ]
    },
    {
      "cell_type": "code",
      "metadata": {
        "id": "Uqh-Od7X2Zi_",
        "colab": {
          "base_uri": "https://localhost:8080/"
        },
        "outputId": "9d3da4ed-bc38-45c9-a66f-7d5ba5fb9f5c"
      },
      "source": [
        ""
      ],
      "execution_count": null,
      "outputs": [
        {
          "output_type": "execute_result",
          "data": {
            "text/plain": [
              "W    1201\n",
              "B     618\n",
              "H     423\n",
              "A      39\n",
              "N      31\n",
              "O      28\n",
              "Name: race, dtype: int64"
            ]
          },
          "metadata": {
            "tags": []
          },
          "execution_count": 15
        }
      ]
    },
    {
      "cell_type": "code",
      "metadata": {
        "id": "Bb16OmdB2ZjA",
        "colab": {
          "base_uri": "https://localhost:8080/",
          "height": 283
        },
        "outputId": "7e601245-42a2-4547-8d3f-8151bc5a1005"
      },
      "source": [
        "# with matplotlib\n"
      ],
      "execution_count": null,
      "outputs": [
        {
          "output_type": "display_data",
          "data": {
            "image/png": "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\n",
            "text/plain": [
              "<Figure size 432x288 with 1 Axes>"
            ]
          },
          "metadata": {
            "tags": [],
            "needs_background": "light"
          }
        }
      ]
    },
    {
      "cell_type": "code",
      "metadata": {
        "id": "o7z6kXmQ-EPT"
      },
      "source": [
        ""
      ],
      "execution_count": null,
      "outputs": []
    },
    {
      "cell_type": "markdown",
      "metadata": {
        "id": "9pGSRTxe-l5B"
      },
      "source": [
        "## 5: Killed People According to Races (Pie Chart)"
      ]
    },
    {
      "cell_type": "code",
      "metadata": {
        "colab": {
          "base_uri": "https://localhost:8080/",
          "height": 307
        },
        "id": "gq_OO4tB-l5E",
        "outputId": "0a45ca8f-7df9-4b85-d72f-8b0d4115561c"
      },
      "source": [
        ""
      ],
      "execution_count": null,
      "outputs": [
        {
          "output_type": "execute_result",
          "data": {
            "text/html": [
              "<div>\n",
              "<style scoped>\n",
              "    .dataframe tbody tr th:only-of-type {\n",
              "        vertical-align: middle;\n",
              "    }\n",
              "\n",
              "    .dataframe tbody tr th {\n",
              "        vertical-align: top;\n",
              "    }\n",
              "\n",
              "    .dataframe thead th {\n",
              "        text-align: right;\n",
              "    }\n",
              "</style>\n",
              "<table border=\"1\" class=\"dataframe\">\n",
              "  <thead>\n",
              "    <tr style=\"text-align: right;\">\n",
              "      <th></th>\n",
              "      <th>id</th>\n",
              "      <th>name</th>\n",
              "      <th>date</th>\n",
              "      <th>manner_of_death</th>\n",
              "      <th>armed</th>\n",
              "      <th>age</th>\n",
              "      <th>gender</th>\n",
              "      <th>race</th>\n",
              "      <th>city</th>\n",
              "      <th>state</th>\n",
              "      <th>signs_of_mental_illness</th>\n",
              "      <th>threat_level</th>\n",
              "      <th>flee</th>\n",
              "      <th>body_camera</th>\n",
              "      <th>age_cat</th>\n",
              "    </tr>\n",
              "  </thead>\n",
              "  <tbody>\n",
              "    <tr>\n",
              "      <th>0</th>\n",
              "      <td>3</td>\n",
              "      <td>Tim Elliot</td>\n",
              "      <td>02/01/15</td>\n",
              "      <td>shot</td>\n",
              "      <td>gun</td>\n",
              "      <td>53.0</td>\n",
              "      <td>M</td>\n",
              "      <td>A</td>\n",
              "      <td>Shelton</td>\n",
              "      <td>WA</td>\n",
              "      <td>True</td>\n",
              "      <td>attack</td>\n",
              "      <td>Not fleeing</td>\n",
              "      <td>False</td>\n",
              "      <td>above25</td>\n",
              "    </tr>\n",
              "    <tr>\n",
              "      <th>1</th>\n",
              "      <td>4</td>\n",
              "      <td>Lewis Lee Lembke</td>\n",
              "      <td>02/01/15</td>\n",
              "      <td>shot</td>\n",
              "      <td>gun</td>\n",
              "      <td>47.0</td>\n",
              "      <td>M</td>\n",
              "      <td>W</td>\n",
              "      <td>Aloha</td>\n",
              "      <td>OR</td>\n",
              "      <td>False</td>\n",
              "      <td>attack</td>\n",
              "      <td>Not fleeing</td>\n",
              "      <td>False</td>\n",
              "      <td>above25</td>\n",
              "    </tr>\n",
              "    <tr>\n",
              "      <th>2</th>\n",
              "      <td>5</td>\n",
              "      <td>John Paul Quintero</td>\n",
              "      <td>03/01/15</td>\n",
              "      <td>shot and Tasered</td>\n",
              "      <td>unarmed</td>\n",
              "      <td>23.0</td>\n",
              "      <td>M</td>\n",
              "      <td>H</td>\n",
              "      <td>Wichita</td>\n",
              "      <td>KS</td>\n",
              "      <td>False</td>\n",
              "      <td>other</td>\n",
              "      <td>Not fleeing</td>\n",
              "      <td>False</td>\n",
              "      <td>below25</td>\n",
              "    </tr>\n",
              "    <tr>\n",
              "      <th>3</th>\n",
              "      <td>8</td>\n",
              "      <td>Matthew Hoffman</td>\n",
              "      <td>04/01/15</td>\n",
              "      <td>shot</td>\n",
              "      <td>toy weapon</td>\n",
              "      <td>32.0</td>\n",
              "      <td>M</td>\n",
              "      <td>W</td>\n",
              "      <td>San Francisco</td>\n",
              "      <td>CA</td>\n",
              "      <td>True</td>\n",
              "      <td>attack</td>\n",
              "      <td>Not fleeing</td>\n",
              "      <td>False</td>\n",
              "      <td>above25</td>\n",
              "    </tr>\n",
              "    <tr>\n",
              "      <th>4</th>\n",
              "      <td>9</td>\n",
              "      <td>Michael Rodriguez</td>\n",
              "      <td>04/01/15</td>\n",
              "      <td>shot</td>\n",
              "      <td>nail gun</td>\n",
              "      <td>39.0</td>\n",
              "      <td>M</td>\n",
              "      <td>H</td>\n",
              "      <td>Evans</td>\n",
              "      <td>CO</td>\n",
              "      <td>False</td>\n",
              "      <td>attack</td>\n",
              "      <td>Not fleeing</td>\n",
              "      <td>False</td>\n",
              "      <td>above25</td>\n",
              "    </tr>\n",
              "  </tbody>\n",
              "</table>\n",
              "</div>"
            ],
            "text/plain": [
              "   id                name      date  ...         flee body_camera  age_cat\n",
              "0   3          Tim Elliot  02/01/15  ...  Not fleeing       False  above25\n",
              "1   4    Lewis Lee Lembke  02/01/15  ...  Not fleeing       False  above25\n",
              "2   5  John Paul Quintero  03/01/15  ...  Not fleeing       False  below25\n",
              "3   8     Matthew Hoffman  04/01/15  ...  Not fleeing       False  above25\n",
              "4   9   Michael Rodriguez  04/01/15  ...  Not fleeing       False  above25\n",
              "\n",
              "[5 rows x 15 columns]"
            ]
          },
          "metadata": {
            "tags": []
          },
          "execution_count": 18
        }
      ]
    },
    {
      "cell_type": "code",
      "metadata": {
        "_uuid": "73ef9a67518196c14338e28236b5054186fabdc1",
        "colab": {
          "base_uri": "https://localhost:8080/"
        },
        "id": "_ZPh_aCz-l5F",
        "outputId": "8ee30bed-c707-4e5d-b0a0-ae4e896e35e8"
      },
      "source": [
        ""
      ],
      "execution_count": null,
      "outputs": [
        {
          "output_type": "execute_result",
          "data": {
            "text/plain": [
              "array(['A', 'W', 'H', 'B', 'O', nan, 'N'], dtype=object)"
            ]
          },
          "metadata": {
            "tags": []
          },
          "execution_count": 19
        }
      ]
    },
    {
      "cell_type": "code",
      "metadata": {
        "colab": {
          "base_uri": "https://localhost:8080/"
        },
        "id": "4lJAFvsx-l5F",
        "outputId": "014ec220-87cf-4b96-da5c-b0f600130869"
      },
      "source": [
        ""
      ],
      "execution_count": null,
      "outputs": [
        {
          "output_type": "execute_result",
          "data": {
            "text/plain": [
              "W      1201\n",
              "B       618\n",
              "H       423\n",
              "NaN     195\n",
              "A        39\n",
              "N        31\n",
              "O        28\n",
              "Name: race, dtype: int64"
            ]
          },
          "metadata": {
            "tags": []
          },
          "execution_count": 20
        }
      ]
    },
    {
      "cell_type": "markdown",
      "metadata": {
        "id": "VuWSIYCm-l5F"
      },
      "source": [
        "Problem: missing value on race column."
      ]
    },
    {
      "cell_type": "markdown",
      "metadata": {
        "id": "mmCQXFcg-l5G"
      },
      "source": [
        "**INSTRUCTION-1: Drop the all raws that contain missing value (dropna)**"
      ]
    },
    {
      "cell_type": "code",
      "metadata": {
        "id": "CzwSuxgQ-l5G"
      },
      "source": [
        ""
      ],
      "execution_count": null,
      "outputs": []
    },
    {
      "cell_type": "code",
      "metadata": {
        "colab": {
          "base_uri": "https://localhost:8080/"
        },
        "id": "3DzEkUNo-l5G",
        "outputId": "fe3f08e2-9ffa-40b2-edad-963b7ee8e29d"
      },
      "source": [
        ""
      ],
      "execution_count": null,
      "outputs": [
        {
          "output_type": "execute_result",
          "data": {
            "text/plain": [
              "(2254, 15)"
            ]
          },
          "metadata": {
            "tags": []
          },
          "execution_count": 22
        }
      ]
    },
    {
      "cell_type": "markdown",
      "metadata": {
        "id": "DRb2AH84-l5G"
      },
      "source": [
        "**INSTRUCTION-2: Demonstrate Race Ratio of Killed People by a Pie Chart (You can use Matplotlib)**"
      ]
    },
    {
      "cell_type": "code",
      "metadata": {
        "colab": {
          "base_uri": "https://localhost:8080/"
        },
        "id": "Pq0aSdnz-l5G",
        "outputId": "313c6efc-d2cd-4030-8ee8-1cd496565d2c"
      },
      "source": [
        ""
      ],
      "execution_count": null,
      "outputs": [
        {
          "output_type": "execute_result",
          "data": {
            "text/plain": [
              "W    1168\n",
              "B     592\n",
              "H     401\n",
              "A      36\n",
              "N      29\n",
              "O      28\n",
              "Name: race, dtype: int64"
            ]
          },
          "metadata": {
            "tags": []
          },
          "execution_count": 23
        }
      ]
    },
    {
      "cell_type": "code",
      "metadata": {
        "colab": {
          "base_uri": "https://localhost:8080/"
        },
        "id": "z3CnjKfh-l5H",
        "outputId": "f138b9ff-11c1-48e2-e616-6a8db21e7dbe"
      },
      "source": [
        ""
      ],
      "execution_count": null,
      "outputs": [
        {
          "output_type": "execute_result",
          "data": {
            "text/plain": [
              "Index(['W', 'B', 'H', 'A', 'N', 'O'], dtype='object')"
            ]
          },
          "metadata": {
            "tags": []
          },
          "execution_count": 24
        }
      ]
    },
    {
      "cell_type": "code",
      "metadata": {
        "colab": {
          "base_uri": "https://localhost:8080/"
        },
        "id": "dNnqgLCM-l5H",
        "outputId": "939f3639-058d-4bf3-abd0-19105f334802"
      },
      "source": [
        ""
      ],
      "execution_count": null,
      "outputs": [
        {
          "output_type": "execute_result",
          "data": {
            "text/plain": [
              "array([1168,  592,  401,   36,   29,   28])"
            ]
          },
          "metadata": {
            "tags": []
          },
          "execution_count": 25
        }
      ]
    },
    {
      "cell_type": "code",
      "metadata": {
        "colab": {
          "base_uri": "https://localhost:8080/",
          "height": 575
        },
        "id": "F1CSkbxa-l5H",
        "outputId": "18bae490-b8d5-49b0-b124-f1c4f75a0129"
      },
      "source": [
        "# matplotlib\n",
        "\n"
      ],
      "execution_count": null,
      "outputs": [
        {
          "output_type": "display_data",
          "data": {
            "image/png": "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\n",
            "text/plain": [
              "<Figure size 720x720 with 1 Axes>"
            ]
          },
          "metadata": {
            "tags": []
          }
        }
      ]
    },
    {
      "cell_type": "code",
      "metadata": {
        "id": "tRAjYkN_MqkZ"
      },
      "source": [
        ""
      ],
      "execution_count": null,
      "outputs": []
    }
  ]
}
>>>>>>> e2b21bd5bf7e6eeab02cfd16a208bacd911844a6
